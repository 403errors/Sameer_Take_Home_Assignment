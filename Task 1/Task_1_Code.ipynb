{
 "cells": [
  {
   "cell_type": "markdown",
   "metadata": {},
   "source": [
    "### Products List\n",
    "\n",
    "Added more dummy products so we can see clear difference between algorithm's running time "
   ]
  },
  {
   "cell_type": "code",
   "execution_count": 23,
   "metadata": {},
   "outputs": [],
   "source": [
    "products = [\n",
    "    {\"name\": \"Laptop\", \"price\": 1000, \"rating\": 4.5, \"availability\": \"in_stock\"},\n",
    "    {\"name\": \"Mouse\", \"price\": 25, \"rating\": 4.7, \"availability\": \"out_of_stock\"},\n",
    "    {\"name\": \"Keyboard\", \"price\": 45, \"rating\": 4.5, \"availability\": \"in_stock\"},\n",
    "    {\"name\": \"Monitor\", \"price\": 150, \"rating\": 4.3, \"availability\": \"in_stock\"},\n",
    "    {\"name\": \"Chair\", \"price\": 85, \"rating\": 4.7, \"availability\": \"in_stock\"},\n",
    "    {\"name\": \"Headphones\", \"price\": 75, \"rating\": 4.6, \"availability\": \"in_stock\"},\n",
    "    {\"name\": \"Webcam\", \"price\": 50, \"rating\": 4.4, \"availability\": \"out_of_stock\"},\n",
    "    {\"name\": \"Desk Lamp\", \"price\": 30, \"rating\": 4.8, \"availability\": \"in_stock\"},\n",
    "    {\"name\": \"Printer\", \"price\": 120, \"rating\": 4.2, \"availability\": \"in_stock\"},\n",
    "    {\"name\": \"External Hard Drive\", \"price\": 90, \"rating\": 4.5, \"availability\": \"in_stock\"},\n",
    "    {\"name\": \"Graphics Card\", \"price\": 500, \"rating\": 4.7, \"availability\": \"out_of_stock\"},\n",
    "    {\"name\": \"Tablet\", \"price\": 300, \"rating\": 4.6, \"availability\": \"in_stock\"},\n",
    "    {\"name\": \"Smartphone\", \"price\": 800, \"rating\": 4.8, \"availability\": \"in_stock\"},\n",
    "    {\"name\": \"Speakers\", \"price\": 60, \"rating\": 4.4, \"availability\": \"in_stock\"},\n",
    "    {\"name\": \"Microphone\", \"price\": 100, \"rating\": 4.5, \"availability\": \"in_stock\"},\n",
    "    {\"name\": \"Gaming Chair\", \"price\": 200, \"rating\": 4.8, \"availability\": \"in_stock\"},\n",
    "    {\"name\": \"Router\", \"price\": 120, \"rating\": 4.3, \"availability\": \"in_stock\"},\n",
    "    {\"name\": \"Power Bank\", \"price\": 40, \"rating\": 4.6, \"availability\": \"in_stock\"},\n",
    "    {\"name\": \"Smartwatch\", \"price\": 250, \"rating\": 4.7, \"availability\": \"in_stock\"},\n",
    "    {\"name\": \"Projector\", \"price\": 400, \"rating\": 4.5, \"availability\": \"in_stock\"},\n",
    "    {\"name\": \"Bluetooth Adapter\", \"price\": 20, \"rating\": 4.3, \"availability\": \"out_of_stock\"},\n",
    "    {\"name\": \"Docking Station\", \"price\": 150, \"rating\": 4.7, \"availability\": \"in_stock\"},\n",
    "    {\"name\": \"Ergonomic Mouse Pad\", \"price\": 15, \"rating\": 4.8, \"availability\": \"in_stock\"},\n",
    "    {\"name\": \"VR Headset\", \"price\": 600, \"rating\": 4.6, \"availability\": \"in_stock\"},\n",
    "    {\"name\": \"External Monitor Arm\", \"price\": 80, \"rating\": 4.5, \"availability\": \"in_stock\"},\n",
    "    {\"name\": \"Cable Organizer\", \"price\": 10, \"rating\": 4.7, \"availability\": \"in_stock\"},\n",
    "    {\"name\": \"SSD (1TB)\", \"price\": 120, \"rating\": 4.8, \"availability\": \"in_stock\"},\n",
    "    {\"name\": \"Laptop Stand\", \"price\": 35, \"rating\": 4.6, \"availability\": \"in_stock\"},\n",
    "    {\"name\": \"Graphics Tablet\", \"price\": 150, \"rating\": 4.5, \"availability\": \"in_stock\"},\n",
    "    {\"name\": \"Noise-Canceling Headphones\", \"price\": 350, \"rating\": 4.8, \"availability\": \"in_stock\"},\n",
    "    {\"name\": \"Smart Bulb\", \"price\": 25, \"rating\": 4.6, \"availability\": \"in_stock\"},\n",
    "]"
   ]
  },
  {
   "cell_type": "markdown",
   "metadata": {},
   "source": [
    "### Pretty Table Code"
   ]
  },
  {
   "cell_type": "code",
   "execution_count": 24,
   "metadata": {},
   "outputs": [],
   "source": [
    "from prettytable import PrettyTable\n",
    "\n",
    "def create_pretty_table(data):\n",
    "    # Initialize the table with column names\n",
    "    table = PrettyTable()\n",
    "    if data:\n",
    "        keys = data[0].keys()  # Extract column names from dictionary keys\n",
    "        table.field_names = list(keys)\n",
    "\n",
    "        # Add rows to the table\n",
    "        for item in data:\n",
    "            table.add_row([item[key] for key in keys])\n",
    "\n",
    "    return table"
   ]
  },
  {
   "cell_type": "markdown",
   "metadata": {},
   "source": [
    "### Insufficient Sorting Code\n",
    "\n",
    "Sort the products efficiently based on these rules:\n",
    "* Products that are in stock appear before those that are out of stock.\n",
    "* Among products with the same availability, sort by descending rating.\n",
    "* If ratings are tied, sort by ascending price"
   ]
  },
  {
   "cell_type": "markdown",
   "metadata": {},
   "source": [
    "We are using two for loops here, resulting in time complexity of O(n^2)"
   ]
  },
  {
   "cell_type": "code",
   "execution_count": 25,
   "metadata": {},
   "outputs": [],
   "source": [
    "def custom_sort(products):\n",
    "    for i in range(len(products)):\n",
    "        for j in range(i + 1, len(products)):\n",
    "            if products[i][\"availability\"] == \"out_of_stock\" and products[j][\"availability\"] == \"in_stock\":\n",
    "                products[i], products[j] = products[j], products[i]\n",
    "            elif (\n",
    "                products[i][\"availability\"] == products[j][\"availability\"]\n",
    "                and products[i][\"rating\"] < products[j][\"rating\"]\n",
    "            ):\n",
    "                products[i], products[j] = products[j], products[i]\n",
    "            elif (\n",
    "                products[i][\"availability\"] == products[j][\"availability\"]\n",
    "                and products[i][\"rating\"] == products[j][\"rating\"]\n",
    "                and products[i][\"price\"] > products[j][\"price\"]\n",
    "            ):\n",
    "                products[i], products[j] = products[j], products[i]\n",
    "    return products"
   ]
  },
  {
   "cell_type": "code",
   "execution_count": 26,
   "metadata": {},
   "outputs": [
    {
     "name": "stdout",
     "output_type": "stream",
     "text": [
      "CPU times: user 99 μs, sys: 0 ns, total: 99 μs\n",
      "Wall time: 101 μs\n"
     ]
    }
   ],
   "source": [
    "%%time\n",
    "\n",
    "sorted_products = custom_sort(products)"
   ]
  },
  {
   "cell_type": "code",
   "execution_count": 27,
   "metadata": {},
   "outputs": [
    {
     "name": "stdout",
     "output_type": "stream",
     "text": [
      "+----------------------------+-------+--------+--------------+\n",
      "|            name            | price | rating | availability |\n",
      "+----------------------------+-------+--------+--------------+\n",
      "|    Ergonomic Mouse Pad     |   15  |  4.8   |   in_stock   |\n",
      "|         Desk Lamp          |   30  |  4.8   |   in_stock   |\n",
      "|         SSD (1TB)          |  120  |  4.8   |   in_stock   |\n",
      "|        Gaming Chair        |  200  |  4.8   |   in_stock   |\n",
      "| Noise-Canceling Headphones |  350  |  4.8   |   in_stock   |\n",
      "|         Smartphone         |  800  |  4.8   |   in_stock   |\n",
      "|      Cable Organizer       |   10  |  4.7   |   in_stock   |\n",
      "|           Chair            |   85  |  4.7   |   in_stock   |\n",
      "|      Docking Station       |  150  |  4.7   |   in_stock   |\n",
      "|         Smartwatch         |  250  |  4.7   |   in_stock   |\n",
      "|         Smart Bulb         |   25  |  4.6   |   in_stock   |\n",
      "|        Laptop Stand        |   35  |  4.6   |   in_stock   |\n",
      "|         Power Bank         |   40  |  4.6   |   in_stock   |\n",
      "|         Headphones         |   75  |  4.6   |   in_stock   |\n",
      "|           Tablet           |  300  |  4.6   |   in_stock   |\n",
      "|         VR Headset         |  600  |  4.6   |   in_stock   |\n",
      "|          Keyboard          |   45  |  4.5   |   in_stock   |\n",
      "|    External Monitor Arm    |   80  |  4.5   |   in_stock   |\n",
      "|    External Hard Drive     |   90  |  4.5   |   in_stock   |\n",
      "|         Microphone         |  100  |  4.5   |   in_stock   |\n",
      "|      Graphics Tablet       |  150  |  4.5   |   in_stock   |\n",
      "|         Projector          |  400  |  4.5   |   in_stock   |\n",
      "|           Laptop           |  1000 |  4.5   |   in_stock   |\n",
      "|          Speakers          |   60  |  4.4   |   in_stock   |\n",
      "|           Router           |  120  |  4.3   |   in_stock   |\n",
      "|          Monitor           |  150  |  4.3   |   in_stock   |\n",
      "|          Printer           |  120  |  4.2   |   in_stock   |\n",
      "|           Mouse            |   25  |  4.7   | out_of_stock |\n",
      "|       Graphics Card        |  500  |  4.7   | out_of_stock |\n",
      "|           Webcam           |   50  |  4.4   | out_of_stock |\n",
      "|     Bluetooth Adapter      |   20  |  4.3   | out_of_stock |\n",
      "+----------------------------+-------+--------+--------------+\n"
     ]
    }
   ],
   "source": [
    "pretty_table = create_pretty_table(sorted_products)\n",
    "print(pretty_table)"
   ]
  },
  {
   "cell_type": "markdown",
   "metadata": {},
   "source": [
    "### Sufficient Sorting Code\n",
    "\n",
    "Here we are using built-in **sorted** function which uses TimSort algorithm, having time complexity of O(nlogn), significantly improving our time complexity. \n",
    "\n",
    "- Additional Plus Point: It's stable sorting"
   ]
  },
  {
   "cell_type": "code",
   "execution_count": 28,
   "metadata": {},
   "outputs": [],
   "source": [
    "def efficient_custom_sort(products):\n",
    "    def sort_key(product):\n",
    "        # Priority order:\n",
    "        # 1. In-stock items first (availability: \"in_stock\" < \"out_of_stock\")\n",
    "        # 2. Higher ratings come first (negative rating to sort in descending order)\n",
    "        # 3. Lower prices come first\n",
    "        return (\n",
    "            product[\"availability\"] == \"out_of_stock\",  \n",
    "            -product[\"rating\"],                        \n",
    "            product[\"price\"]                           \n",
    "        )\n",
    "    \n",
    "    return sorted(products, key=sort_key)"
   ]
  },
  {
   "cell_type": "code",
   "execution_count": 29,
   "metadata": {},
   "outputs": [
    {
     "name": "stdout",
     "output_type": "stream",
     "text": [
      "CPU times: user 17 μs, sys: 1 μs, total: 18 μs\n",
      "Wall time: 17.9 μs\n"
     ]
    }
   ],
   "source": [
    "%%time\n",
    "\n",
    "sorted_products = efficient_custom_sort(products)"
   ]
  },
  {
   "cell_type": "code",
   "execution_count": 30,
   "metadata": {},
   "outputs": [
    {
     "name": "stdout",
     "output_type": "stream",
     "text": [
      "+----------------------------+-------+--------+--------------+\n",
      "|            name            | price | rating | availability |\n",
      "+----------------------------+-------+--------+--------------+\n",
      "|    Ergonomic Mouse Pad     |   15  |  4.8   |   in_stock   |\n",
      "|         Desk Lamp          |   30  |  4.8   |   in_stock   |\n",
      "|         SSD (1TB)          |  120  |  4.8   |   in_stock   |\n",
      "|        Gaming Chair        |  200  |  4.8   |   in_stock   |\n",
      "| Noise-Canceling Headphones |  350  |  4.8   |   in_stock   |\n",
      "|         Smartphone         |  800  |  4.8   |   in_stock   |\n",
      "|      Cable Organizer       |   10  |  4.7   |   in_stock   |\n",
      "|           Chair            |   85  |  4.7   |   in_stock   |\n",
      "|      Docking Station       |  150  |  4.7   |   in_stock   |\n",
      "|         Smartwatch         |  250  |  4.7   |   in_stock   |\n",
      "|         Smart Bulb         |   25  |  4.6   |   in_stock   |\n",
      "|        Laptop Stand        |   35  |  4.6   |   in_stock   |\n",
      "|         Power Bank         |   40  |  4.6   |   in_stock   |\n",
      "|         Headphones         |   75  |  4.6   |   in_stock   |\n",
      "|           Tablet           |  300  |  4.6   |   in_stock   |\n",
      "|         VR Headset         |  600  |  4.6   |   in_stock   |\n",
      "|          Keyboard          |   45  |  4.5   |   in_stock   |\n",
      "|    External Monitor Arm    |   80  |  4.5   |   in_stock   |\n",
      "|    External Hard Drive     |   90  |  4.5   |   in_stock   |\n",
      "|         Microphone         |  100  |  4.5   |   in_stock   |\n",
      "|      Graphics Tablet       |  150  |  4.5   |   in_stock   |\n",
      "|         Projector          |  400  |  4.5   |   in_stock   |\n",
      "|           Laptop           |  1000 |  4.5   |   in_stock   |\n",
      "|          Speakers          |   60  |  4.4   |   in_stock   |\n",
      "|           Router           |  120  |  4.3   |   in_stock   |\n",
      "|          Monitor           |  150  |  4.3   |   in_stock   |\n",
      "|          Printer           |  120  |  4.2   |   in_stock   |\n",
      "|           Mouse            |   25  |  4.7   | out_of_stock |\n",
      "|       Graphics Card        |  500  |  4.7   | out_of_stock |\n",
      "|           Webcam           |   50  |  4.4   | out_of_stock |\n",
      "|     Bluetooth Adapter      |   20  |  4.3   | out_of_stock |\n",
      "+----------------------------+-------+--------+--------------+\n"
     ]
    }
   ],
   "source": [
    "pretty_table = create_pretty_table(sorted_products)\n",
    "print(pretty_table)"
   ]
  }
 ],
 "metadata": {
  "kernelspec": {
   "display_name": "Python 3",
   "language": "python",
   "name": "python3"
  },
  "language_info": {
   "codemirror_mode": {
    "name": "ipython",
    "version": 3
   },
   "file_extension": ".py",
   "mimetype": "text/x-python",
   "name": "python",
   "nbconvert_exporter": "python",
   "pygments_lexer": "ipython3",
   "version": "3.13.0"
  }
 },
 "nbformat": 4,
 "nbformat_minor": 2
}
