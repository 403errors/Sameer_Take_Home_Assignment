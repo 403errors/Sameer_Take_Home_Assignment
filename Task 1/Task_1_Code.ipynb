###################################### Objective #########################################

# You’ve got a messy sort them like a list of products from an online store, and your job is to pro. 
# Make it fast, clean, and super efficient using Python and libraries—no excuses for messy code here!

###################################### Problem statement #########################################

# You are given a list of products with the following attributes
# name: Name of the product.
# price: Price of the product (in USD).
# rating: Customer rating (out of 5).
# availability: Either "in_stock" or "out_of_stock."

# Sort the products efficiently based on these rules:
# Products that are in stock appear before those that are out of stock.
# Among products with the same availability, sort by descending rating.
# If ratings are tied, sort by ascending price