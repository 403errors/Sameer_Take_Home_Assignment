{
 "cells": [
  {
   "cell_type": "markdown",
   "metadata": {},
   "source": [
    "Build a neural network to predict housing prices based on the features provided in the USA Real Estate Dataset. \n",
    "\n",
    "Your goal is to design, implement, and evaluate a predictive model using the given data."
   ]
  },
  {
   "cell_type": "code",
   "execution_count": 68,
   "metadata": {},
   "outputs": [],
   "source": [
    "# !kaggle datasets download -d ahmedshahriarsakib/usa-real-estate-dataset"
   ]
  },
  {
   "cell_type": "code",
   "execution_count": null,
   "metadata": {},
   "outputs": [],
   "source": [
    "import kaggle\n",
    "import pandas as pd\n",
    "\n",
    "# Download the dataset\n",
    "kaggle.api.dataset_download_file('ahmedshahriarsakib/usa-real-estate-dataset', 'realtor-data.zip.csv')\n",
    "\n",
    "# Unzip the downloaded file\n",
    "import zipfile\n",
    "\n",
    "with zipfile.ZipFile('realtor-data.zip', 'r') as zip_ref:\n",
    "    zip_ref.extractall('Task 3')\n",
    "\n",
    "# Load the CSV into a DataFrame\n",
    "df = pd.read_csv('Task 3/realtor-data.zip.csv')\n",
    "\n",
    "# Display the first few rows\n",
    "print(df.head())"
   ]
  },
  {
   "cell_type": "code",
   "execution_count": null,
   "metadata": {},
   "outputs": [
    {
     "name": "stdout",
     "output_type": "stream",
     "text": [
      "   brokered_by    status     price  bed  bath  acre_lot     street  \\\n",
      "0     103378.0  for_sale  105000.0  3.0   2.0      0.12  1962661.0   \n",
      "1      52707.0  for_sale   80000.0  4.0   2.0      0.08  1902874.0   \n",
      "2     103379.0  for_sale   67000.0  2.0   1.0      0.15  1404990.0   \n",
      "3      31239.0  for_sale  145000.0  4.0   2.0      0.10  1947675.0   \n",
      "4      34632.0  for_sale   65000.0  6.0   2.0      0.05   331151.0   \n",
      "\n",
      "         city        state  zip_code  house_size prev_sold_date  \n",
      "0    Adjuntas  Puerto Rico     601.0       920.0            NaN  \n",
      "1    Adjuntas  Puerto Rico     601.0      1527.0            NaN  \n",
      "2  Juana Diaz  Puerto Rico     795.0       748.0            NaN  \n",
      "3       Ponce  Puerto Rico     731.0      1800.0            NaN  \n",
      "4    Mayaguez  Puerto Rico     680.0         NaN            NaN  \n"
     ]
    }
   ],
   "source": [
    "# import pandas as pd # type: ignore\n",
    "\n",
    "# csv_file = 'realtor-data.csv'  # Replace with the actual CSV file name\n",
    "# df = pd.read_csv(csv_file)\n",
    "\n",
    "# # Display the first few rows of the dataframe\n",
    "# print(df.head())\n"
   ]
  },
  {
   "cell_type": "markdown",
   "metadata": {},
   "source": [
    "## EDA"
   ]
  },
  {
   "cell_type": "code",
   "execution_count": 70,
   "metadata": {},
   "outputs": [
    {
     "data": {
      "text/html": [
       "<div>\n",
       "<style scoped>\n",
       "    .dataframe tbody tr th:only-of-type {\n",
       "        vertical-align: middle;\n",
       "    }\n",
       "\n",
       "    .dataframe tbody tr th {\n",
       "        vertical-align: top;\n",
       "    }\n",
       "\n",
       "    .dataframe thead th {\n",
       "        text-align: right;\n",
       "    }\n",
       "</style>\n",
       "<table border=\"1\" class=\"dataframe\">\n",
       "  <thead>\n",
       "    <tr style=\"text-align: right;\">\n",
       "      <th></th>\n",
       "      <th>brokered_by</th>\n",
       "      <th>price</th>\n",
       "      <th>bed</th>\n",
       "      <th>bath</th>\n",
       "      <th>acre_lot</th>\n",
       "      <th>street</th>\n",
       "      <th>zip_code</th>\n",
       "      <th>house_size</th>\n",
       "    </tr>\n",
       "  </thead>\n",
       "  <tbody>\n",
       "    <tr>\n",
       "      <th>count</th>\n",
       "      <td>2.221849e+06</td>\n",
       "      <td>2.224841e+06</td>\n",
       "      <td>1.745065e+06</td>\n",
       "      <td>1.714611e+06</td>\n",
       "      <td>1.900793e+06</td>\n",
       "      <td>2.215516e+06</td>\n",
       "      <td>2.226083e+06</td>\n",
       "      <td>1.657898e+06</td>\n",
       "    </tr>\n",
       "    <tr>\n",
       "      <th>mean</th>\n",
       "      <td>5.293989e+04</td>\n",
       "      <td>5.241955e+05</td>\n",
       "      <td>3.275841e+00</td>\n",
       "      <td>2.496440e+00</td>\n",
       "      <td>1.522303e+01</td>\n",
       "      <td>1.012325e+06</td>\n",
       "      <td>5.218668e+04</td>\n",
       "      <td>2.714471e+03</td>\n",
       "    </tr>\n",
       "    <tr>\n",
       "      <th>std</th>\n",
       "      <td>3.064275e+04</td>\n",
       "      <td>2.138893e+06</td>\n",
       "      <td>1.567274e+00</td>\n",
       "      <td>1.652573e+00</td>\n",
       "      <td>7.628238e+02</td>\n",
       "      <td>5.837635e+05</td>\n",
       "      <td>2.895408e+04</td>\n",
       "      <td>8.081635e+05</td>\n",
       "    </tr>\n",
       "    <tr>\n",
       "      <th>min</th>\n",
       "      <td>0.000000e+00</td>\n",
       "      <td>0.000000e+00</td>\n",
       "      <td>1.000000e+00</td>\n",
       "      <td>1.000000e+00</td>\n",
       "      <td>0.000000e+00</td>\n",
       "      <td>0.000000e+00</td>\n",
       "      <td>0.000000e+00</td>\n",
       "      <td>4.000000e+00</td>\n",
       "    </tr>\n",
       "    <tr>\n",
       "      <th>25%</th>\n",
       "      <td>2.386100e+04</td>\n",
       "      <td>1.650000e+05</td>\n",
       "      <td>3.000000e+00</td>\n",
       "      <td>2.000000e+00</td>\n",
       "      <td>1.500000e-01</td>\n",
       "      <td>5.063128e+05</td>\n",
       "      <td>2.961700e+04</td>\n",
       "      <td>1.300000e+03</td>\n",
       "    </tr>\n",
       "    <tr>\n",
       "      <th>50%</th>\n",
       "      <td>5.288400e+04</td>\n",
       "      <td>3.250000e+05</td>\n",
       "      <td>3.000000e+00</td>\n",
       "      <td>2.000000e+00</td>\n",
       "      <td>2.600000e-01</td>\n",
       "      <td>1.012766e+06</td>\n",
       "      <td>4.838200e+04</td>\n",
       "      <td>1.760000e+03</td>\n",
       "    </tr>\n",
       "    <tr>\n",
       "      <th>75%</th>\n",
       "      <td>7.918300e+04</td>\n",
       "      <td>5.500000e+05</td>\n",
       "      <td>4.000000e+00</td>\n",
       "      <td>3.000000e+00</td>\n",
       "      <td>9.800000e-01</td>\n",
       "      <td>1.521173e+06</td>\n",
       "      <td>7.807000e+04</td>\n",
       "      <td>2.413000e+03</td>\n",
       "    </tr>\n",
       "    <tr>\n",
       "      <th>max</th>\n",
       "      <td>1.101420e+05</td>\n",
       "      <td>2.147484e+09</td>\n",
       "      <td>4.730000e+02</td>\n",
       "      <td>8.300000e+02</td>\n",
       "      <td>1.000000e+05</td>\n",
       "      <td>2.001357e+06</td>\n",
       "      <td>9.999900e+04</td>\n",
       "      <td>1.040400e+09</td>\n",
       "    </tr>\n",
       "  </tbody>\n",
       "</table>\n",
       "</div>"
      ],
      "text/plain": [
       "        brokered_by         price           bed          bath      acre_lot  \\\n",
       "count  2.221849e+06  2.224841e+06  1.745065e+06  1.714611e+06  1.900793e+06   \n",
       "mean   5.293989e+04  5.241955e+05  3.275841e+00  2.496440e+00  1.522303e+01   \n",
       "std    3.064275e+04  2.138893e+06  1.567274e+00  1.652573e+00  7.628238e+02   \n",
       "min    0.000000e+00  0.000000e+00  1.000000e+00  1.000000e+00  0.000000e+00   \n",
       "25%    2.386100e+04  1.650000e+05  3.000000e+00  2.000000e+00  1.500000e-01   \n",
       "50%    5.288400e+04  3.250000e+05  3.000000e+00  2.000000e+00  2.600000e-01   \n",
       "75%    7.918300e+04  5.500000e+05  4.000000e+00  3.000000e+00  9.800000e-01   \n",
       "max    1.101420e+05  2.147484e+09  4.730000e+02  8.300000e+02  1.000000e+05   \n",
       "\n",
       "             street      zip_code    house_size  \n",
       "count  2.215516e+06  2.226083e+06  1.657898e+06  \n",
       "mean   1.012325e+06  5.218668e+04  2.714471e+03  \n",
       "std    5.837635e+05  2.895408e+04  8.081635e+05  \n",
       "min    0.000000e+00  0.000000e+00  4.000000e+00  \n",
       "25%    5.063128e+05  2.961700e+04  1.300000e+03  \n",
       "50%    1.012766e+06  4.838200e+04  1.760000e+03  \n",
       "75%    1.521173e+06  7.807000e+04  2.413000e+03  \n",
       "max    2.001357e+06  9.999900e+04  1.040400e+09  "
      ]
     },
     "execution_count": 70,
     "metadata": {},
     "output_type": "execute_result"
    }
   ],
   "source": [
    "df.describe()"
   ]
  },
  {
   "cell_type": "code",
   "execution_count": 71,
   "metadata": {},
   "outputs": [
    {
     "data": {
      "text/plain": [
       "Index(['brokered_by', 'status', 'price', 'bed', 'bath', 'acre_lot', 'street',\n",
       "       'city', 'state', 'zip_code', 'house_size', 'prev_sold_date'],\n",
       "      dtype='object')"
      ]
     },
     "execution_count": 71,
     "metadata": {},
     "output_type": "execute_result"
    }
   ],
   "source": [
    "df.columns"
   ]
  },
  {
   "cell_type": "code",
   "execution_count": 72,
   "metadata": {},
   "outputs": [
    {
     "name": "stdout",
     "output_type": "stream",
     "text": [
      "<class 'pandas.core.frame.DataFrame'>\n",
      "RangeIndex: 2226382 entries, 0 to 2226381\n",
      "Data columns (total 12 columns):\n",
      " #   Column          Dtype  \n",
      "---  ------          -----  \n",
      " 0   brokered_by     float64\n",
      " 1   status          object \n",
      " 2   price           float64\n",
      " 3   bed             float64\n",
      " 4   bath            float64\n",
      " 5   acre_lot        float64\n",
      " 6   street          float64\n",
      " 7   city            object \n",
      " 8   state           object \n",
      " 9   zip_code        float64\n",
      " 10  house_size      float64\n",
      " 11  prev_sold_date  object \n",
      "dtypes: float64(8), object(4)\n",
      "memory usage: 203.8+ MB\n"
     ]
    }
   ],
   "source": [
    "df.info()"
   ]
  },
  {
   "cell_type": "code",
   "execution_count": 73,
   "metadata": {},
   "outputs": [
    {
     "data": {
      "text/plain": [
       "brokered_by         4533\n",
       "status                 0\n",
       "price               1541\n",
       "bed               481317\n",
       "bath              511771\n",
       "acre_lot          325589\n",
       "street             10866\n",
       "city                1407\n",
       "state                  8\n",
       "zip_code             299\n",
       "house_size        568484\n",
       "prev_sold_date    734297\n",
       "dtype: int64"
      ]
     },
     "execution_count": 73,
     "metadata": {},
     "output_type": "execute_result"
    }
   ],
   "source": [
    "# Check for missing values\n",
    "df.isnull().sum()"
   ]
  },
  {
   "cell_type": "markdown",
   "metadata": {},
   "source": [
    "### Data Cleaning and Preprocessing"
   ]
  },
  {
   "cell_type": "markdown",
   "metadata": {},
   "source": [
    "Convert Columns to Appropriate Data Types"
   ]
  },
  {
   "cell_type": "code",
   "execution_count": 74,
   "metadata": {},
   "outputs": [],
   "source": [
    "# Convert `prev_sold_date` to datetime\n",
    "df['prev_sold_date'] = pd.to_datetime(df['prev_sold_date'], errors='coerce')\n",
    "\n",
    "# Convert `brokered_by` to categorical (or int if needed)\n",
    "df['brokered_by'] = df['brokered_by'].astype('category')\n",
    "\n",
    "# Convert `state`, `city`, and `status` to categorical\n",
    "df['state'] = df['state'].astype('category')\n",
    "df['city'] = df['city'].astype('category')\n",
    "df['status'] = df['status'].astype('category')"
   ]
  },
  {
   "cell_type": "markdown",
   "metadata": {},
   "source": [
    "Fill Missing Values"
   ]
  },
  {
   "cell_type": "markdown",
   "metadata": {},
   "source": [
    "broker_by"
   ]
  },
  {
   "cell_type": "code",
   "execution_count": 75,
   "metadata": {},
   "outputs": [
    {
     "name": "stdout",
     "output_type": "stream",
     "text": [
      "brokered_by            0\n",
      "status                 0\n",
      "price               1541\n",
      "bed               479604\n",
      "bath              510032\n",
      "acre_lot          325105\n",
      "street             10849\n",
      "city                1397\n",
      "state                  8\n",
      "zip_code             299\n",
      "house_size        566630\n",
      "prev_sold_date    733377\n",
      "dtype: int64\n"
     ]
    }
   ],
   "source": [
    "# Drop rows where 'brokered_by' is NaN\n",
    "df.dropna(subset=['brokered_by'], inplace=True)\n",
    "\n",
    "# Check the result\n",
    "print(df.isnull().sum())  # Check for remaining missing values"
   ]
  },
  {
   "cell_type": "code",
   "execution_count": 76,
   "metadata": {},
   "outputs": [],
   "source": [
    "# Proceed with other missing value handling\n",
    "df['price'] = df['price'].fillna(df['price'].median())\n",
    "df['bed'] = df['bed'].fillna(df['bed'].median())\n",
    "df['bath'] = df['bath'].fillna(df['bath'].median())\n",
    "df['acre_lot'] = df['acre_lot'].fillna(df['acre_lot'].median())\n",
    "df['house_size'] = df['house_size'].fillna(df['house_size'].median())"
   ]
  },
  {
   "cell_type": "code",
   "execution_count": 77,
   "metadata": {},
   "outputs": [
    {
     "name": "stdout",
     "output_type": "stream",
     "text": [
      "brokered_by            0\n",
      "status                 0\n",
      "price                  0\n",
      "bed                    0\n",
      "bath                   0\n",
      "acre_lot               0\n",
      "street             10849\n",
      "city                1397\n",
      "state                  8\n",
      "zip_code             299\n",
      "house_size             0\n",
      "prev_sold_date    733377\n",
      "dtype: int64\n"
     ]
    }
   ],
   "source": [
    "# Check the result\n",
    "print(df.isnull().sum())  # Check for remaining missing values"
   ]
  },
  {
   "cell_type": "code",
   "execution_count": 78,
   "metadata": {},
   "outputs": [],
   "source": [
    "# Fill missing 'street', 'city', 'zip_code' with the most frequent value (mode)\n",
    "df['street'] = df['street'].fillna(df['street'].mode()[0])\n",
    "df['city'] = df['city'].fillna(df['city'].mode()[0])\n",
    "df['zip_code'] = df['zip_code'].fillna(df['zip_code'].mode()[0])"
   ]
  },
  {
   "cell_type": "code",
   "execution_count": 79,
   "metadata": {},
   "outputs": [
    {
     "name": "stdout",
     "output_type": "stream",
     "text": [
      "brokered_by            0\n",
      "status                 0\n",
      "price                  0\n",
      "bed                    0\n",
      "bath                   0\n",
      "acre_lot               0\n",
      "street                 0\n",
      "city                   0\n",
      "state                  8\n",
      "zip_code               0\n",
      "house_size             0\n",
      "prev_sold_date    733377\n",
      "dtype: int64\n"
     ]
    }
   ],
   "source": [
    "# Check the result\n",
    "print(df.isnull().sum())  # Check for remaining missing values"
   ]
  },
  {
   "cell_type": "code",
   "execution_count": 80,
   "metadata": {},
   "outputs": [],
   "source": [
    "# Drop the 'prev_sold_date' column due to excessive missing values\n",
    "df.drop(columns=['prev_sold_date'], inplace=True)"
   ]
  },
  {
   "cell_type": "code",
   "execution_count": 81,
   "metadata": {},
   "outputs": [
    {
     "name": "stdout",
     "output_type": "stream",
     "text": [
      "brokered_by    0\n",
      "status         0\n",
      "price          0\n",
      "bed            0\n",
      "bath           0\n",
      "acre_lot       0\n",
      "street         0\n",
      "city           0\n",
      "state          8\n",
      "zip_code       0\n",
      "house_size     0\n",
      "dtype: int64\n"
     ]
    }
   ],
   "source": [
    "# Check the result\n",
    "print(df.isnull().sum())  # Check for remaining missing values"
   ]
  },
  {
   "cell_type": "code",
   "execution_count": 82,
   "metadata": {},
   "outputs": [
    {
     "data": {
      "text/html": [
       "<div>\n",
       "<style scoped>\n",
       "    .dataframe tbody tr th:only-of-type {\n",
       "        vertical-align: middle;\n",
       "    }\n",
       "\n",
       "    .dataframe tbody tr th {\n",
       "        vertical-align: top;\n",
       "    }\n",
       "\n",
       "    .dataframe thead th {\n",
       "        text-align: right;\n",
       "    }\n",
       "</style>\n",
       "<table border=\"1\" class=\"dataframe\">\n",
       "  <thead>\n",
       "    <tr style=\"text-align: right;\">\n",
       "      <th></th>\n",
       "      <th>brokered_by</th>\n",
       "      <th>status</th>\n",
       "      <th>price</th>\n",
       "      <th>bed</th>\n",
       "      <th>bath</th>\n",
       "      <th>acre_lot</th>\n",
       "      <th>street</th>\n",
       "      <th>city</th>\n",
       "      <th>state</th>\n",
       "      <th>zip_code</th>\n",
       "      <th>house_size</th>\n",
       "    </tr>\n",
       "  </thead>\n",
       "  <tbody>\n",
       "    <tr>\n",
       "      <th>0</th>\n",
       "      <td>103378.0</td>\n",
       "      <td>for_sale</td>\n",
       "      <td>105000.0</td>\n",
       "      <td>3.0</td>\n",
       "      <td>2.0</td>\n",
       "      <td>0.12</td>\n",
       "      <td>1962661.0</td>\n",
       "      <td>Adjuntas</td>\n",
       "      <td>Puerto Rico</td>\n",
       "      <td>601.0</td>\n",
       "      <td>920.0</td>\n",
       "    </tr>\n",
       "    <tr>\n",
       "      <th>1</th>\n",
       "      <td>52707.0</td>\n",
       "      <td>for_sale</td>\n",
       "      <td>80000.0</td>\n",
       "      <td>4.0</td>\n",
       "      <td>2.0</td>\n",
       "      <td>0.08</td>\n",
       "      <td>1902874.0</td>\n",
       "      <td>Adjuntas</td>\n",
       "      <td>Puerto Rico</td>\n",
       "      <td>601.0</td>\n",
       "      <td>1527.0</td>\n",
       "    </tr>\n",
       "    <tr>\n",
       "      <th>2</th>\n",
       "      <td>103379.0</td>\n",
       "      <td>for_sale</td>\n",
       "      <td>67000.0</td>\n",
       "      <td>2.0</td>\n",
       "      <td>1.0</td>\n",
       "      <td>0.15</td>\n",
       "      <td>1404990.0</td>\n",
       "      <td>Juana Diaz</td>\n",
       "      <td>Puerto Rico</td>\n",
       "      <td>795.0</td>\n",
       "      <td>748.0</td>\n",
       "    </tr>\n",
       "    <tr>\n",
       "      <th>3</th>\n",
       "      <td>31239.0</td>\n",
       "      <td>for_sale</td>\n",
       "      <td>145000.0</td>\n",
       "      <td>4.0</td>\n",
       "      <td>2.0</td>\n",
       "      <td>0.10</td>\n",
       "      <td>1947675.0</td>\n",
       "      <td>Ponce</td>\n",
       "      <td>Puerto Rico</td>\n",
       "      <td>731.0</td>\n",
       "      <td>1800.0</td>\n",
       "    </tr>\n",
       "    <tr>\n",
       "      <th>4</th>\n",
       "      <td>34632.0</td>\n",
       "      <td>for_sale</td>\n",
       "      <td>65000.0</td>\n",
       "      <td>6.0</td>\n",
       "      <td>2.0</td>\n",
       "      <td>0.05</td>\n",
       "      <td>331151.0</td>\n",
       "      <td>Mayaguez</td>\n",
       "      <td>Puerto Rico</td>\n",
       "      <td>680.0</td>\n",
       "      <td>1760.0</td>\n",
       "    </tr>\n",
       "  </tbody>\n",
       "</table>\n",
       "</div>"
      ],
      "text/plain": [
       "  brokered_by    status     price  bed  bath  acre_lot     street        city  \\\n",
       "0    103378.0  for_sale  105000.0  3.0   2.0      0.12  1962661.0    Adjuntas   \n",
       "1     52707.0  for_sale   80000.0  4.0   2.0      0.08  1902874.0    Adjuntas   \n",
       "2    103379.0  for_sale   67000.0  2.0   1.0      0.15  1404990.0  Juana Diaz   \n",
       "3     31239.0  for_sale  145000.0  4.0   2.0      0.10  1947675.0       Ponce   \n",
       "4     34632.0  for_sale   65000.0  6.0   2.0      0.05   331151.0    Mayaguez   \n",
       "\n",
       "         state  zip_code  house_size  \n",
       "0  Puerto Rico     601.0       920.0  \n",
       "1  Puerto Rico     601.0      1527.0  \n",
       "2  Puerto Rico     795.0       748.0  \n",
       "3  Puerto Rico     731.0      1800.0  \n",
       "4  Puerto Rico     680.0      1760.0  "
      ]
     },
     "execution_count": 82,
     "metadata": {},
     "output_type": "execute_result"
    }
   ],
   "source": [
    "df.head()"
   ]
  },
  {
   "cell_type": "markdown",
   "metadata": {},
   "source": [
    "## Data Exploration & Understanding\n",
    "\n",
    "Check for outliers: Identify any outliers in numerical columns like price, acre_lot, or house_size.\n",
    "\n",
    "\n",
    "Visualize data: Create plots (e.g., histograms, scatter plots, and correlation matrices) to understand relationships between variables."
   ]
  },
  {
   "cell_type": "code",
   "execution_count": 83,
   "metadata": {},
   "outputs": [
    {
     "name": "stdout",
     "output_type": "stream",
     "text": [
      "Outliers in price: 171236 rows\n",
      "Outliers in acre_lot: 366353 rows\n",
      "Outliers in house_size: 190432 rows\n"
     ]
    },
    {
     "data": {
      "image/png": "[encoded data removed]",
      "text/plain": [
       "<Figure size 640x480 with 1 Axes>"
      ]
     },
     "metadata": {},
     "output_type": "display_data"
    },
    {
     "data": {
      "image/png": "[encoded data removed]",
      "text/plain": [
       "<Figure size 640x480 with 1 Axes>"
      ]
     },
     "metadata": {},
     "output_type": "display_data"
    },
    {
     "data": {
      "image/png": "[encoded data removed]",
      "text/plain": [
       "<Figure size 640x480 with 1 Axes>"
      ]
     },
     "metadata": {},
     "output_type": "display_data"
    },
    {
     "name": "stdout",
     "output_type": "stream",
     "text": [
      "Outliers in price (Z-score method): 8190 rows\n",
      "Outliers in acre_lot (Z-score method): 1066 rows\n",
      "Outliers in house_size (Z-score method): 6 rows\n"
     ]
    }
   ],
   "source": [
    "import pandas as pd\n",
    "import numpy as np\n",
    "import matplotlib.pyplot as plt\n",
    "import seaborn as sns\n",
    "from scipy import stats\n",
    "\n",
    "# Assuming df is your DataFrame\n",
    "\n",
    "# 1. **Boxplot (IQR Method)**\n",
    "\n",
    "def detect_outliers_iqr(df, column):\n",
    "    Q1 = df[column].quantile(0.25)\n",
    "    Q3 = df[column].quantile(0.75)\n",
    "    IQR = Q3 - Q1\n",
    "    lower_bound = Q1 - 1.5 * IQR\n",
    "    upper_bound = Q3 + 1.5 * IQR\n",
    "    outliers = df[(df[column] < lower_bound) | (df[column] > upper_bound)]\n",
    "    return outliers\n",
    "\n",
    "# Detect outliers in 'price', 'acre_lot', and 'house_size'\n",
    "outliers_price = detect_outliers_iqr(df, 'price')\n",
    "outliers_acre_lot = detect_outliers_iqr(df, 'acre_lot')\n",
    "outliers_house_size = detect_outliers_iqr(df, 'house_size')\n",
    "\n",
    "print(f\"Outliers in price: {outliers_price.shape[0]} rows\")\n",
    "print(f\"Outliers in acre_lot: {outliers_acre_lot.shape[0]} rows\")\n",
    "print(f\"Outliers in house_size: {outliers_house_size.shape[0]} rows\")\n",
    "\n",
    "# Visualizing boxplots\n",
    "sns.boxplot(x=df['price'])\n",
    "plt.title('Price Boxplot')\n",
    "plt.show()\n",
    "\n",
    "sns.boxplot(x=df['acre_lot'])\n",
    "plt.title('Acre Lot Boxplot')\n",
    "plt.show()\n",
    "\n",
    "sns.boxplot(x=df['house_size'])\n",
    "plt.title('House Size Boxplot')\n",
    "plt.show()\n",
    "\n",
    "\n",
    "# 2. **Z-score Method**\n",
    "\n",
    "def detect_outliers_zscore(df, column):\n",
    "    z_scores = np.abs(stats.zscore(df[column]))\n",
    "    outliers = df[z_scores > 3]  # Z-score threshold set to 3\n",
    "    return outliers\n",
    "\n",
    "# Detect outliers using Z-scores\n",
    "outliers_price_zscore = detect_outliers_zscore(df, 'price')\n",
    "outliers_acre_lot_zscore = detect_outliers_zscore(df, 'acre_lot')\n",
    "outliers_house_size_zscore = detect_outliers_zscore(df, 'house_size')\n",
    "\n",
    "print(f\"Outliers in price (Z-score method): {outliers_price_zscore.shape[0]} rows\")\n",
    "print(f\"Outliers in acre_lot (Z-score method): {outliers_acre_lot_zscore.shape[0]} rows\")\n",
    "print(f\"Outliers in house_size (Z-score method): {outliers_house_size_zscore.shape[0]} rows\")"
   ]
  },
  {
   "cell_type": "markdown",
   "metadata": {},
   "source": [
    "Dropping outliners"
   ]
  },
  {
   "cell_type": "code",
   "execution_count": 84,
   "metadata": {},
   "outputs": [
    {
     "name": "stdout",
     "output_type": "stream",
     "text": [
      "Rows with price greater than 1500000000.0\n",
      "       brokered_by    status         price  bed  bath  acre_lot   street  \\\n",
      "221994     23826.0  for_sale  2.147484e+09  2.0   2.0      0.12  11355.0   \n",
      "\n",
      "                 city       state  zip_code  house_size  \n",
      "221994  International  California   33981.0       885.0  \n",
      "Rows with price greater than 200000000\n",
      "        brokered_by    status     price  bed  bath  acre_lot     street  \\\n",
      "1213684     32859.0  for_sale  160000.0  3.0   2.0      0.26  1133380.0   \n",
      "\n",
      "          city    state  zip_code    house_size  \n",
      "1213684  Tacna  Arizona   85352.0  1.040400e+09  \n"
     ]
    }
   ],
   "source": [
    "threshold_price = 1.5 * (10 ** 9)\n",
    "threshold_house_size = 2 * (10 ** 8)\n",
    "\n",
    "# Filter rows where price is greater than threshold\n",
    "rows_with_price_gt_threshold_price = df[df['price'] > threshold_price]\n",
    "rows_with_price_gt_threshold_house_size = df[df['house_size'] > threshold_house_size]\n",
    "\n",
    "# Print the rows with price greater than threshold\n",
    "print(\"Rows with price greater than\", threshold_price)\n",
    "print(rows_with_price_gt_threshold_price)\n",
    "\n",
    "print(\"Rows with price greater than\", threshold_house_size)\n",
    "print(rows_with_price_gt_threshold_house_size)\n",
    "\n",
    "# Drop rows from the original DataFrame\n",
    "df_dropped = df[df['price'] <= threshold_price]\n",
    "df_dropped = df[df['house_size'] <= threshold_house_size]\n"
   ]
  },
  {
   "cell_type": "markdown",
   "metadata": {},
   "source": [
    "## Data Preprocessing\n",
    "\n",
    "Encode categorical variables: status, city and state are categorical variables. but city and state will get us curse of dimentionality\n",
    "\n",
    "\n",
    "One-hot encoding: Useful when categorical variables are non-ordinal and have many unique values."
   ]
  },
  {
   "cell_type": "code",
   "execution_count": 90,
   "metadata": {},
   "outputs": [
    {
     "name": "stdout",
     "output_type": "stream",
     "text": [
      "  brokered_by     price       bed      bath      acre_lot     street  \\\n",
      "0    103378.0  0.000049  0.004237  0.001206  1.200000e-06  1962661.0   \n",
      "1     52707.0  0.000037  0.006356  0.001206  8.000000e-07  1902874.0   \n",
      "2    103379.0  0.000031  0.002119  0.000000  1.500000e-06  1404990.0   \n",
      "3     31239.0  0.000068  0.006356  0.001206  1.000000e-06  1947675.0   \n",
      "4     34632.0  0.000030  0.010593  0.001206  5.000000e-07   331151.0   \n",
      "\n",
      "         city        state  zip_code    house_size  price_per_sqft  \\\n",
      "0    Adjuntas  Puerto Rico     601.0  8.804303e-07       55.534706   \n",
      "1    Adjuntas  Puerto Rico     601.0  1.463859e-06       25.448415   \n",
      "2  Juana Diaz  Puerto Rico     795.0  7.151093e-07       43.628725   \n",
      "3       Ponce  Puerto Rico     731.0  1.726258e-06       39.114008   \n",
      "4    Mayaguez  Puerto Rico     680.0  1.687812e-06       17.933270   \n",
      "\n",
      "   lot_size_ratio  status_for_sale  status_ready_to_build  status_sold  \n",
      "0        1.362970             True                  False        False  \n",
      "1        0.546501             True                  False        False  \n",
      "2        2.097581             True                  False        False  \n",
      "3        0.579288             True                  False        False  \n",
      "4        0.296242             True                  False        False  \n"
     ]
    }
   ],
   "source": [
    "# Perform One-Hot Encoding for 'status' and create dummy columns\n",
    "df = pd.get_dummies(df, columns=['status'], drop_first=False)\n",
    "\n",
    "# Print the DataFrame with new dummy columns for 'status'\n",
    "print(df.head())"
   ]
  },
  {
   "cell_type": "markdown",
   "metadata": {},
   "source": [
    "city, state, zip code - label encoding"
   ]
  },
  {
   "cell_type": "code",
   "execution_count": 98,
   "metadata": {},
   "outputs": [],
   "source": [
    "from sklearn.preprocessing import LabelEncoder\n",
    "\n",
    "label_encoder = LabelEncoder()\n",
    "\n",
    "# Apply label encoding to categorical columns\n",
    "df['city'] = label_encoder.fit_transform(df['city'])\n",
    "df['state'] = label_encoder.fit_transform(df['state'])\n",
    "df['zip_code'] = label_encoder.fit_transform(df['zip_code'])\n"
   ]
  },
  {
   "cell_type": "code",
   "execution_count": 99,
   "metadata": {},
   "outputs": [
    {
     "data": {
      "text/plain": [
       "(2221849, 15)"
      ]
     },
     "execution_count": 99,
     "metadata": {},
     "output_type": "execute_result"
    }
   ],
   "source": [
    "df.shape"
   ]
  },
  {
   "cell_type": "markdown",
   "metadata": {},
   "source": [
    "Feature scaling:\n",
    "\n",
    "Features like price, bed, bath, acre_lot, house_size are continuous variables. You might want to normalize or standardize these to ensure they are on the same scale, especially if you're using distance-based algorithms (e.g., KNN, SVM).\n",
    "For algorithms like decision trees or random forests, feature scaling is generally not necessary, but for linear regression or neural networks, it's recommended."
   ]
  },
  {
   "cell_type": "code",
   "execution_count": 100,
   "metadata": {},
   "outputs": [
    {
     "name": "stdout",
     "output_type": "stream",
     "text": [
      "  brokered_by     price       bed      bath      acre_lot     street   city  \\\n",
      "0    103378.0  0.000049  0.004237  0.001206  1.200000e-06  1962661.0     92   \n",
      "1     52707.0  0.000037  0.006356  0.001206  8.000000e-07  1902874.0     92   \n",
      "2    103379.0  0.000031  0.002119  0.000000  1.500000e-06  1404990.0   8788   \n",
      "3     31239.0  0.000068  0.006356  0.001206  1.000000e-06  1947675.0  14313   \n",
      "4     34632.0  0.000030  0.010593  0.001206  5.000000e-07   331151.0  10936   \n",
      "\n",
      "   state  zip_code    house_size  price_per_sqft  lot_size_ratio  \\\n",
      "0     41         1  8.804303e-07       55.534706        1.362970   \n",
      "1     41         1  1.463859e-06       25.448415        0.546501   \n",
      "2     41        95  7.151093e-07       43.628725        2.097581   \n",
      "3     41        67  1.726258e-06       39.114008        0.579288   \n",
      "4     41        39  1.687812e-06       17.933270        0.296242   \n",
      "\n",
      "   status_for_sale  status_ready_to_build  status_sold  \n",
      "0             True                  False        False  \n",
      "1             True                  False        False  \n",
      "2             True                  False        False  \n",
      "3             True                  False        False  \n",
      "4             True                  False        False  \n"
     ]
    }
   ],
   "source": [
    "from sklearn.preprocessing import MinMaxScaler\n",
    "\n",
    "# Initialize the scaler\n",
    "scaler = MinMaxScaler()\n",
    "\n",
    "# Columns to normalize\n",
    "cols_to_normalize = ['price', 'bed', 'bath', 'acre_lot', 'house_size']\n",
    "\n",
    "# Apply normalization\n",
    "df[cols_to_normalize] = scaler.fit_transform(df[cols_to_normalize])\n",
    "\n",
    "print(df.head())"
   ]
  },
  {
   "cell_type": "markdown",
   "metadata": {},
   "source": [
    "Feature engineering:\n",
    "\n",
    "Price per square foot: You can create a new feature like price_per_sqft = price / house_size to better capture the relationship between price and house size.\n",
    "\n",
    "Lot size ratio: The ratio of acre_lot to house_size might be a useful feature to capture the relationship between lot size and house size."
   ]
  },
  {
   "cell_type": "code",
   "execution_count": 101,
   "metadata": {},
   "outputs": [
    {
     "name": "stdout",
     "output_type": "stream",
     "text": [
      "      price    house_size  price_per_sqft      acre_lot  lot_size_ratio\n",
      "0  0.000049  8.804303e-07       55.534706  1.200000e-06        1.362970\n",
      "1  0.000037  1.463859e-06       25.448415  8.000000e-07        0.546501\n",
      "2  0.000031  7.151093e-07       43.628725  1.500000e-06        2.097581\n",
      "3  0.000068  1.726258e-06       39.114008  1.000000e-06        0.579288\n",
      "4  0.000030  1.687812e-06       17.933270  5.000000e-07        0.296242\n"
     ]
    }
   ],
   "source": [
    "# Create 'price_per_sqft' feature\n",
    "df['price_per_sqft'] = df['price'] / df['house_size']\n",
    "\n",
    "# Create 'lot_size_ratio' feature\n",
    "df['lot_size_ratio'] = df['acre_lot'] / df['house_size']\n",
    "\n",
    "# Print the first few rows to verify the new features\n",
    "print(df[['price', 'house_size', 'price_per_sqft', 'acre_lot', 'lot_size_ratio']].head())"
   ]
  },
  {
   "cell_type": "code",
   "execution_count": 102,
   "metadata": {},
   "outputs": [
    {
     "data": {
      "text/html": [
       "<div>\n",
       "<style scoped>\n",
       "    .dataframe tbody tr th:only-of-type {\n",
       "        vertical-align: middle;\n",
       "    }\n",
       "\n",
       "    .dataframe tbody tr th {\n",
       "        vertical-align: top;\n",
       "    }\n",
       "\n",
       "    .dataframe thead th {\n",
       "        text-align: right;\n",
       "    }\n",
       "</style>\n",
       "<table border=\"1\" class=\"dataframe\">\n",
       "  <thead>\n",
       "    <tr style=\"text-align: right;\">\n",
       "      <th></th>\n",
       "      <th>brokered_by</th>\n",
       "      <th>price</th>\n",
       "      <th>bed</th>\n",
       "      <th>bath</th>\n",
       "      <th>acre_lot</th>\n",
       "      <th>street</th>\n",
       "      <th>city</th>\n",
       "      <th>state</th>\n",
       "      <th>zip_code</th>\n",
       "      <th>house_size</th>\n",
       "      <th>price_per_sqft</th>\n",
       "      <th>lot_size_ratio</th>\n",
       "      <th>status_for_sale</th>\n",
       "      <th>status_ready_to_build</th>\n",
       "      <th>status_sold</th>\n",
       "    </tr>\n",
       "  </thead>\n",
       "  <tbody>\n",
       "    <tr>\n",
       "      <th>0</th>\n",
       "      <td>103378.0</td>\n",
       "      <td>0.000049</td>\n",
       "      <td>0.004237</td>\n",
       "      <td>0.001206</td>\n",
       "      <td>1.200000e-06</td>\n",
       "      <td>1962661.0</td>\n",
       "      <td>92</td>\n",
       "      <td>41</td>\n",
       "      <td>1</td>\n",
       "      <td>8.804303e-07</td>\n",
       "      <td>55.534706</td>\n",
       "      <td>1.362970</td>\n",
       "      <td>True</td>\n",
       "      <td>False</td>\n",
       "      <td>False</td>\n",
       "    </tr>\n",
       "    <tr>\n",
       "      <th>1</th>\n",
       "      <td>52707.0</td>\n",
       "      <td>0.000037</td>\n",
       "      <td>0.006356</td>\n",
       "      <td>0.001206</td>\n",
       "      <td>8.000000e-07</td>\n",
       "      <td>1902874.0</td>\n",
       "      <td>92</td>\n",
       "      <td>41</td>\n",
       "      <td>1</td>\n",
       "      <td>1.463859e-06</td>\n",
       "      <td>25.448415</td>\n",
       "      <td>0.546501</td>\n",
       "      <td>True</td>\n",
       "      <td>False</td>\n",
       "      <td>False</td>\n",
       "    </tr>\n",
       "    <tr>\n",
       "      <th>2</th>\n",
       "      <td>103379.0</td>\n",
       "      <td>0.000031</td>\n",
       "      <td>0.002119</td>\n",
       "      <td>0.000000</td>\n",
       "      <td>1.500000e-06</td>\n",
       "      <td>1404990.0</td>\n",
       "      <td>8788</td>\n",
       "      <td>41</td>\n",
       "      <td>95</td>\n",
       "      <td>7.151093e-07</td>\n",
       "      <td>43.628725</td>\n",
       "      <td>2.097581</td>\n",
       "      <td>True</td>\n",
       "      <td>False</td>\n",
       "      <td>False</td>\n",
       "    </tr>\n",
       "    <tr>\n",
       "      <th>3</th>\n",
       "      <td>31239.0</td>\n",
       "      <td>0.000068</td>\n",
       "      <td>0.006356</td>\n",
       "      <td>0.001206</td>\n",
       "      <td>1.000000e-06</td>\n",
       "      <td>1947675.0</td>\n",
       "      <td>14313</td>\n",
       "      <td>41</td>\n",
       "      <td>67</td>\n",
       "      <td>1.726258e-06</td>\n",
       "      <td>39.114008</td>\n",
       "      <td>0.579288</td>\n",
       "      <td>True</td>\n",
       "      <td>False</td>\n",
       "      <td>False</td>\n",
       "    </tr>\n",
       "    <tr>\n",
       "      <th>4</th>\n",
       "      <td>34632.0</td>\n",
       "      <td>0.000030</td>\n",
       "      <td>0.010593</td>\n",
       "      <td>0.001206</td>\n",
       "      <td>5.000000e-07</td>\n",
       "      <td>331151.0</td>\n",
       "      <td>10936</td>\n",
       "      <td>41</td>\n",
       "      <td>39</td>\n",
       "      <td>1.687812e-06</td>\n",
       "      <td>17.933270</td>\n",
       "      <td>0.296242</td>\n",
       "      <td>True</td>\n",
       "      <td>False</td>\n",
       "      <td>False</td>\n",
       "    </tr>\n",
       "  </tbody>\n",
       "</table>\n",
       "</div>"
      ],
      "text/plain": [
       "  brokered_by     price       bed      bath      acre_lot     street   city  \\\n",
       "0    103378.0  0.000049  0.004237  0.001206  1.200000e-06  1962661.0     92   \n",
       "1     52707.0  0.000037  0.006356  0.001206  8.000000e-07  1902874.0     92   \n",
       "2    103379.0  0.000031  0.002119  0.000000  1.500000e-06  1404990.0   8788   \n",
       "3     31239.0  0.000068  0.006356  0.001206  1.000000e-06  1947675.0  14313   \n",
       "4     34632.0  0.000030  0.010593  0.001206  5.000000e-07   331151.0  10936   \n",
       "\n",
       "   state  zip_code    house_size  price_per_sqft  lot_size_ratio  \\\n",
       "0     41         1  8.804303e-07       55.534706        1.362970   \n",
       "1     41         1  1.463859e-06       25.448415        0.546501   \n",
       "2     41        95  7.151093e-07       43.628725        2.097581   \n",
       "3     41        67  1.726258e-06       39.114008        0.579288   \n",
       "4     41        39  1.687812e-06       17.933270        0.296242   \n",
       "\n",
       "   status_for_sale  status_ready_to_build  status_sold  \n",
       "0             True                  False        False  \n",
       "1             True                  False        False  \n",
       "2             True                  False        False  \n",
       "3             True                  False        False  \n",
       "4             True                  False        False  "
      ]
     },
     "execution_count": 102,
     "metadata": {},
     "output_type": "execute_result"
    }
   ],
   "source": [
    "df.head()"
   ]
  },
  {
   "cell_type": "markdown",
   "metadata": {},
   "source": [
    "## Train-Test Split"
   ]
  },
  {
   "cell_type": "code",
   "execution_count": 103,
   "metadata": {},
   "outputs": [
    {
     "name": "stdout",
     "output_type": "stream",
     "text": [
      "Training set shape: (1777479, 14)\n",
      "Test set shape: (444370, 14)\n"
     ]
    }
   ],
   "source": [
    "from sklearn.model_selection import train_test_split\n",
    "\n",
    "# Split data into features (X) and target (y)\n",
    "X = df.drop('price', axis=1) \n",
    "y = df['price'] \n",
    "\n",
    "# Split the data into training and testing sets (80% train, 20% test)\n",
    "X_train, X_test, y_train, y_test = train_test_split(X, y, test_size=0.2, random_state=42)\n",
    "\n",
    "# Check the shape of the splits\n",
    "print(f\"Training set shape: {X_train.shape}\")\n",
    "print(f\"Test set shape: {X_test.shape}\")"
   ]
  },
  {
   "cell_type": "markdown",
   "metadata": {},
   "source": [
    "## NN Model"
   ]
  },
  {
   "cell_type": "code",
   "execution_count": 109,
   "metadata": {},
   "outputs": [
    {
     "name": "stdout",
     "output_type": "stream",
     "text": [
      "brokered_by              category\n",
      "bed                       float64\n",
      "bath                      float64\n",
      "acre_lot                  float64\n",
      "street                    float64\n",
      "city                        int64\n",
      "state                       int64\n",
      "zip_code                    int64\n",
      "house_size                float64\n",
      "price_per_sqft            float64\n",
      "lot_size_ratio            float64\n",
      "status_for_sale              bool\n",
      "status_ready_to_build        bool\n",
      "status_sold                  bool\n",
      "dtype: object\n"
     ]
    }
   ],
   "source": [
    "print(X_train.dtypes)\n"
   ]
  },
  {
   "cell_type": "code",
   "execution_count": 111,
   "metadata": {},
   "outputs": [],
   "source": [
    "# Ensure that 'brokered_by' is treated as a numeric column (float)\n",
    "X_train['brokered_by'] = X_train['brokered_by'].astype(float)\n",
    "X_test['brokered_by'] = X_test['brokered_by'].astype(float)"
   ]
  },
  {
   "cell_type": "code",
   "execution_count": 116,
   "metadata": {},
   "outputs": [
    {
     "data": {
      "text/html": [
       "<div>\n",
       "<style scoped>\n",
       "    .dataframe tbody tr th:only-of-type {\n",
       "        vertical-align: middle;\n",
       "    }\n",
       "\n",
       "    .dataframe tbody tr th {\n",
       "        vertical-align: top;\n",
       "    }\n",
       "\n",
       "    .dataframe thead th {\n",
       "        text-align: right;\n",
       "    }\n",
       "</style>\n",
       "<table border=\"1\" class=\"dataframe\">\n",
       "  <thead>\n",
       "    <tr style=\"text-align: right;\">\n",
       "      <th></th>\n",
       "      <th>brokered_by</th>\n",
       "      <th>price</th>\n",
       "      <th>bed</th>\n",
       "      <th>bath</th>\n",
       "      <th>acre_lot</th>\n",
       "      <th>street</th>\n",
       "      <th>city</th>\n",
       "      <th>state</th>\n",
       "      <th>zip_code</th>\n",
       "      <th>house_size</th>\n",
       "      <th>price_per_sqft</th>\n",
       "      <th>lot_size_ratio</th>\n",
       "      <th>status_for_sale</th>\n",
       "      <th>status_ready_to_build</th>\n",
       "      <th>status_sold</th>\n",
       "    </tr>\n",
       "  </thead>\n",
       "  <tbody>\n",
       "    <tr>\n",
       "      <th>0</th>\n",
       "      <td>103378.0</td>\n",
       "      <td>0.000049</td>\n",
       "      <td>0.004237</td>\n",
       "      <td>0.001206</td>\n",
       "      <td>1.200000e-06</td>\n",
       "      <td>1962661.0</td>\n",
       "      <td>92</td>\n",
       "      <td>41</td>\n",
       "      <td>1</td>\n",
       "      <td>8.804303e-07</td>\n",
       "      <td>55.534706</td>\n",
       "      <td>1.362970</td>\n",
       "      <td>True</td>\n",
       "      <td>False</td>\n",
       "      <td>False</td>\n",
       "    </tr>\n",
       "    <tr>\n",
       "      <th>1</th>\n",
       "      <td>52707.0</td>\n",
       "      <td>0.000037</td>\n",
       "      <td>0.006356</td>\n",
       "      <td>0.001206</td>\n",
       "      <td>8.000000e-07</td>\n",
       "      <td>1902874.0</td>\n",
       "      <td>92</td>\n",
       "      <td>41</td>\n",
       "      <td>1</td>\n",
       "      <td>1.463859e-06</td>\n",
       "      <td>25.448415</td>\n",
       "      <td>0.546501</td>\n",
       "      <td>True</td>\n",
       "      <td>False</td>\n",
       "      <td>False</td>\n",
       "    </tr>\n",
       "    <tr>\n",
       "      <th>2</th>\n",
       "      <td>103379.0</td>\n",
       "      <td>0.000031</td>\n",
       "      <td>0.002119</td>\n",
       "      <td>0.000000</td>\n",
       "      <td>1.500000e-06</td>\n",
       "      <td>1404990.0</td>\n",
       "      <td>8788</td>\n",
       "      <td>41</td>\n",
       "      <td>95</td>\n",
       "      <td>7.151093e-07</td>\n",
       "      <td>43.628725</td>\n",
       "      <td>2.097581</td>\n",
       "      <td>True</td>\n",
       "      <td>False</td>\n",
       "      <td>False</td>\n",
       "    </tr>\n",
       "    <tr>\n",
       "      <th>3</th>\n",
       "      <td>31239.0</td>\n",
       "      <td>0.000068</td>\n",
       "      <td>0.006356</td>\n",
       "      <td>0.001206</td>\n",
       "      <td>1.000000e-06</td>\n",
       "      <td>1947675.0</td>\n",
       "      <td>14313</td>\n",
       "      <td>41</td>\n",
       "      <td>67</td>\n",
       "      <td>1.726258e-06</td>\n",
       "      <td>39.114008</td>\n",
       "      <td>0.579288</td>\n",
       "      <td>True</td>\n",
       "      <td>False</td>\n",
       "      <td>False</td>\n",
       "    </tr>\n",
       "    <tr>\n",
       "      <th>4</th>\n",
       "      <td>34632.0</td>\n",
       "      <td>0.000030</td>\n",
       "      <td>0.010593</td>\n",
       "      <td>0.001206</td>\n",
       "      <td>5.000000e-07</td>\n",
       "      <td>331151.0</td>\n",
       "      <td>10936</td>\n",
       "      <td>41</td>\n",
       "      <td>39</td>\n",
       "      <td>1.687812e-06</td>\n",
       "      <td>17.933270</td>\n",
       "      <td>0.296242</td>\n",
       "      <td>True</td>\n",
       "      <td>False</td>\n",
       "      <td>False</td>\n",
       "    </tr>\n",
       "  </tbody>\n",
       "</table>\n",
       "</div>"
      ],
      "text/plain": [
       "  brokered_by     price       bed      bath      acre_lot     street   city  \\\n",
       "0    103378.0  0.000049  0.004237  0.001206  1.200000e-06  1962661.0     92   \n",
       "1     52707.0  0.000037  0.006356  0.001206  8.000000e-07  1902874.0     92   \n",
       "2    103379.0  0.000031  0.002119  0.000000  1.500000e-06  1404990.0   8788   \n",
       "3     31239.0  0.000068  0.006356  0.001206  1.000000e-06  1947675.0  14313   \n",
       "4     34632.0  0.000030  0.010593  0.001206  5.000000e-07   331151.0  10936   \n",
       "\n",
       "   state  zip_code    house_size  price_per_sqft  lot_size_ratio  \\\n",
       "0     41         1  8.804303e-07       55.534706        1.362970   \n",
       "1     41         1  1.463859e-06       25.448415        0.546501   \n",
       "2     41        95  7.151093e-07       43.628725        2.097581   \n",
       "3     41        67  1.726258e-06       39.114008        0.579288   \n",
       "4     41        39  1.687812e-06       17.933270        0.296242   \n",
       "\n",
       "   status_for_sale  status_ready_to_build  status_sold  \n",
       "0             True                  False        False  \n",
       "1             True                  False        False  \n",
       "2             True                  False        False  \n",
       "3             True                  False        False  \n",
       "4             True                  False        False  "
      ]
     },
     "execution_count": 116,
     "metadata": {},
     "output_type": "execute_result"
    }
   ],
   "source": [
    "df.head()"
   ]
  },
  {
   "cell_type": "code",
   "execution_count": 115,
   "metadata": {},
   "outputs": [
    {
     "data": {
      "text/html": [
       "<div>\n",
       "<style scoped>\n",
       "    .dataframe tbody tr th:only-of-type {\n",
       "        vertical-align: middle;\n",
       "    }\n",
       "\n",
       "    .dataframe tbody tr th {\n",
       "        vertical-align: top;\n",
       "    }\n",
       "\n",
       "    .dataframe thead th {\n",
       "        text-align: right;\n",
       "    }\n",
       "</style>\n",
       "<table border=\"1\" class=\"dataframe\">\n",
       "  <thead>\n",
       "    <tr style=\"text-align: right;\">\n",
       "      <th></th>\n",
       "      <th>brokered_by</th>\n",
       "      <th>bed</th>\n",
       "      <th>bath</th>\n",
       "      <th>acre_lot</th>\n",
       "      <th>street</th>\n",
       "      <th>city</th>\n",
       "      <th>state</th>\n",
       "      <th>zip_code</th>\n",
       "      <th>house_size</th>\n",
       "      <th>price_per_sqft</th>\n",
       "      <th>lot_size_ratio</th>\n",
       "      <th>status_for_sale</th>\n",
       "      <th>status_ready_to_build</th>\n",
       "      <th>status_sold</th>\n",
       "    </tr>\n",
       "  </thead>\n",
       "  <tbody>\n",
       "    <tr>\n",
       "      <th>1536610</th>\n",
       "      <td>56995.0</td>\n",
       "      <td>0.002119</td>\n",
       "      <td>0.001206</td>\n",
       "      <td>0.000003</td>\n",
       "      <td>1713413.0</td>\n",
       "      <td>11074</td>\n",
       "      <td>50</td>\n",
       "      <td>6407</td>\n",
       "      <td>0.000001</td>\n",
       "      <td>210.561349</td>\n",
       "      <td>2.044627</td>\n",
       "      <td>False</td>\n",
       "      <td>False</td>\n",
       "      <td>True</td>\n",
       "    </tr>\n",
       "    <tr>\n",
       "      <th>911475</th>\n",
       "      <td>44679.0</td>\n",
       "      <td>0.004237</td>\n",
       "      <td>0.001206</td>\n",
       "      <td>0.000004</td>\n",
       "      <td>739618.0</td>\n",
       "      <td>16498</td>\n",
       "      <td>26</td>\n",
       "      <td>20209</td>\n",
       "      <td>0.000002</td>\n",
       "      <td>6.318029</td>\n",
       "      <td>2.310684</td>\n",
       "      <td>True</td>\n",
       "      <td>False</td>\n",
       "      <td>False</td>\n",
       "    </tr>\n",
       "    <tr>\n",
       "      <th>300557</th>\n",
       "      <td>22313.0</td>\n",
       "      <td>0.006356</td>\n",
       "      <td>0.002413</td>\n",
       "      <td>0.000006</td>\n",
       "      <td>829729.0</td>\n",
       "      <td>8449</td>\n",
       "      <td>43</td>\n",
       "      <td>8929</td>\n",
       "      <td>0.000003</td>\n",
       "      <td>82.648606</td>\n",
       "      <td>2.232305</td>\n",
       "      <td>True</td>\n",
       "      <td>False</td>\n",
       "      <td>False</td>\n",
       "    </tr>\n",
       "    <tr>\n",
       "      <th>748775</th>\n",
       "      <td>79759.0</td>\n",
       "      <td>0.004237</td>\n",
       "      <td>0.001206</td>\n",
       "      <td>0.000010</td>\n",
       "      <td>869225.0</td>\n",
       "      <td>8590</td>\n",
       "      <td>23</td>\n",
       "      <td>15131</td>\n",
       "      <td>0.000001</td>\n",
       "      <td>44.166652</td>\n",
       "      <td>7.295935</td>\n",
       "      <td>True</td>\n",
       "      <td>False</td>\n",
       "      <td>False</td>\n",
       "    </tr>\n",
       "    <tr>\n",
       "      <th>1385992</th>\n",
       "      <td>101304.0</td>\n",
       "      <td>0.004237</td>\n",
       "      <td>0.001206</td>\n",
       "      <td>0.000001</td>\n",
       "      <td>675314.0</td>\n",
       "      <td>1283</td>\n",
       "      <td>39</td>\n",
       "      <td>29549</td>\n",
       "      <td>0.000001</td>\n",
       "      <td>180.981741</td>\n",
       "      <td>1.046380</td>\n",
       "      <td>True</td>\n",
       "      <td>False</td>\n",
       "      <td>False</td>\n",
       "    </tr>\n",
       "  </tbody>\n",
       "</table>\n",
       "</div>"
      ],
      "text/plain": [
       "         brokered_by       bed      bath  acre_lot     street   city  state  \\\n",
       "1536610      56995.0  0.002119  0.001206  0.000003  1713413.0  11074     50   \n",
       "911475       44679.0  0.004237  0.001206  0.000004   739618.0  16498     26   \n",
       "300557       22313.0  0.006356  0.002413  0.000006   829729.0   8449     43   \n",
       "748775       79759.0  0.004237  0.001206  0.000010   869225.0   8590     23   \n",
       "1385992     101304.0  0.004237  0.001206  0.000001   675314.0   1283     39   \n",
       "\n",
       "         zip_code  house_size  price_per_sqft  lot_size_ratio  \\\n",
       "1536610      6407    0.000001      210.561349        2.044627   \n",
       "911475      20209    0.000002        6.318029        2.310684   \n",
       "300557       8929    0.000003       82.648606        2.232305   \n",
       "748775      15131    0.000001       44.166652        7.295935   \n",
       "1385992     29549    0.000001      180.981741        1.046380   \n",
       "\n",
       "         status_for_sale  status_ready_to_build  status_sold  \n",
       "1536610            False                  False         True  \n",
       "911475              True                  False        False  \n",
       "300557              True                  False        False  \n",
       "748775              True                  False        False  \n",
       "1385992             True                  False        False  "
      ]
     },
     "execution_count": 115,
     "metadata": {},
     "output_type": "execute_result"
    }
   ],
   "source": [
    "X_train.head()"
   ]
  },
  {
   "cell_type": "code",
   "execution_count": 117,
   "metadata": {},
   "outputs": [
    {
     "data": {
      "text/html": [
       "<div>\n",
       "<style scoped>\n",
       "    .dataframe tbody tr th:only-of-type {\n",
       "        vertical-align: middle;\n",
       "    }\n",
       "\n",
       "    .dataframe tbody tr th {\n",
       "        vertical-align: top;\n",
       "    }\n",
       "\n",
       "    .dataframe thead th {\n",
       "        text-align: right;\n",
       "    }\n",
       "</style>\n",
       "<table border=\"1\" class=\"dataframe\">\n",
       "  <thead>\n",
       "    <tr style=\"text-align: right;\">\n",
       "      <th></th>\n",
       "      <th>brokered_by</th>\n",
       "      <th>bed</th>\n",
       "      <th>bath</th>\n",
       "      <th>acre_lot</th>\n",
       "      <th>street</th>\n",
       "      <th>city</th>\n",
       "      <th>state</th>\n",
       "      <th>zip_code</th>\n",
       "      <th>house_size</th>\n",
       "      <th>price_per_sqft</th>\n",
       "      <th>lot_size_ratio</th>\n",
       "      <th>status_for_sale</th>\n",
       "      <th>status_ready_to_build</th>\n",
       "      <th>status_sold</th>\n",
       "    </tr>\n",
       "  </thead>\n",
       "  <tbody>\n",
       "    <tr>\n",
       "      <th>1565788</th>\n",
       "      <td>33474.0</td>\n",
       "      <td>0.008475</td>\n",
       "      <td>0.004825</td>\n",
       "      <td>6.000000e-07</td>\n",
       "      <td>707481.0</td>\n",
       "      <td>881</td>\n",
       "      <td>21</td>\n",
       "      <td>6186</td>\n",
       "      <td>0.000003</td>\n",
       "      <td>78.888788</td>\n",
       "      <td>0.231543</td>\n",
       "      <td>False</td>\n",
       "      <td>False</td>\n",
       "      <td>True</td>\n",
       "    </tr>\n",
       "    <tr>\n",
       "      <th>1659744</th>\n",
       "      <td>52608.0</td>\n",
       "      <td>0.006356</td>\n",
       "      <td>0.002413</td>\n",
       "      <td>5.600000e-06</td>\n",
       "      <td>1499559.0</td>\n",
       "      <td>10393</td>\n",
       "      <td>10</td>\n",
       "      <td>9522</td>\n",
       "      <td>0.000002</td>\n",
       "      <td>55.763605</td>\n",
       "      <td>2.682432</td>\n",
       "      <td>False</td>\n",
       "      <td>False</td>\n",
       "      <td>True</td>\n",
       "    </tr>\n",
       "    <tr>\n",
       "      <th>516464</th>\n",
       "      <td>51581.0</td>\n",
       "      <td>0.004237</td>\n",
       "      <td>0.001206</td>\n",
       "      <td>5.930000e-05</td>\n",
       "      <td>1927657.0</td>\n",
       "      <td>14172</td>\n",
       "      <td>9</td>\n",
       "      <td>10289</td>\n",
       "      <td>0.000002</td>\n",
       "      <td>96.563764</td>\n",
       "      <td>35.134250</td>\n",
       "      <td>True</td>\n",
       "      <td>False</td>\n",
       "      <td>False</td>\n",
       "    </tr>\n",
       "    <tr>\n",
       "      <th>9183</th>\n",
       "      <td>22611.0</td>\n",
       "      <td>0.004237</td>\n",
       "      <td>0.001206</td>\n",
       "      <td>2.200000e-06</td>\n",
       "      <td>1470652.0</td>\n",
       "      <td>7553</td>\n",
       "      <td>6</td>\n",
       "      <td>1699</td>\n",
       "      <td>0.000001</td>\n",
       "      <td>91.723486</td>\n",
       "      <td>1.836983</td>\n",
       "      <td>True</td>\n",
       "      <td>False</td>\n",
       "      <td>False</td>\n",
       "    </tr>\n",
       "    <tr>\n",
       "      <th>31546</th>\n",
       "      <td>30807.0</td>\n",
       "      <td>0.004237</td>\n",
       "      <td>0.001206</td>\n",
       "      <td>3.130000e-05</td>\n",
       "      <td>1938406.0</td>\n",
       "      <td>15654</td>\n",
       "      <td>20</td>\n",
       "      <td>1368</td>\n",
       "      <td>0.000002</td>\n",
       "      <td>7.973408</td>\n",
       "      <td>18.544722</td>\n",
       "      <td>True</td>\n",
       "      <td>False</td>\n",
       "      <td>False</td>\n",
       "    </tr>\n",
       "  </tbody>\n",
       "</table>\n",
       "</div>"
      ],
      "text/plain": [
       "         brokered_by       bed      bath      acre_lot     street   city  \\\n",
       "1565788      33474.0  0.008475  0.004825  6.000000e-07   707481.0    881   \n",
       "1659744      52608.0  0.006356  0.002413  5.600000e-06  1499559.0  10393   \n",
       "516464       51581.0  0.004237  0.001206  5.930000e-05  1927657.0  14172   \n",
       "9183         22611.0  0.004237  0.001206  2.200000e-06  1470652.0   7553   \n",
       "31546        30807.0  0.004237  0.001206  3.130000e-05  1938406.0  15654   \n",
       "\n",
       "         state  zip_code  house_size  price_per_sqft  lot_size_ratio  \\\n",
       "1565788     21      6186    0.000003       78.888788        0.231543   \n",
       "1659744     10      9522    0.000002       55.763605        2.682432   \n",
       "516464       9     10289    0.000002       96.563764       35.134250   \n",
       "9183         6      1699    0.000001       91.723486        1.836983   \n",
       "31546       20      1368    0.000002        7.973408       18.544722   \n",
       "\n",
       "         status_for_sale  status_ready_to_build  status_sold  \n",
       "1565788            False                  False         True  \n",
       "1659744            False                  False         True  \n",
       "516464              True                  False        False  \n",
       "9183                True                  False        False  \n",
       "31546               True                  False        False  "
      ]
     },
     "execution_count": 117,
     "metadata": {},
     "output_type": "execute_result"
    }
   ],
   "source": [
    "X_test.head()"
   ]
  },
  {
   "cell_type": "code",
   "execution_count": 119,
   "metadata": {},
   "outputs": [
    {
     "name": "stdout",
     "output_type": "stream",
     "text": [
      "brokered_by              0\n",
      "bed                      0\n",
      "bath                     0\n",
      "acre_lot                 0\n",
      "street                   0\n",
      "city                     0\n",
      "state                    0\n",
      "zip_code                 0\n",
      "house_size               0\n",
      "price_per_sqft           0\n",
      "lot_size_ratio           0\n",
      "status_for_sale          0\n",
      "status_ready_to_build    0\n",
      "status_sold              0\n",
      "dtype: int64 brokered_by              0\n",
      "bed                      0\n",
      "bath                     0\n",
      "acre_lot                 0\n",
      "street                   0\n",
      "city                     0\n",
      "state                    0\n",
      "zip_code                 0\n",
      "house_size               0\n",
      "price_per_sqft           1\n",
      "lot_size_ratio           1\n",
      "status_for_sale          0\n",
      "status_ready_to_build    0\n",
      "status_sold              0\n",
      "dtype: int64\n",
      "0 0\n"
     ]
    }
   ],
   "source": [
    "print(np.isnan(X_train).sum(), np.isinf(X_train).sum())\n",
    "print(np.isnan(y_train).sum(), np.isinf(y_train).sum())\n"
   ]
  },
  {
   "cell_type": "code",
   "execution_count": 120,
   "metadata": {},
   "outputs": [
    {
     "name": "stdout",
     "output_type": "stream",
     "text": [
      "brokered_by              0\n",
      "bed                      0\n",
      "bath                     0\n",
      "acre_lot                 0\n",
      "street                   0\n",
      "city                     0\n",
      "state                    0\n",
      "zip_code                 0\n",
      "house_size               0\n",
      "price_per_sqft           0\n",
      "lot_size_ratio           0\n",
      "status_for_sale          0\n",
      "status_ready_to_build    0\n",
      "status_sold              0\n",
      "dtype: int64 brokered_by              0\n",
      "bed                      0\n",
      "bath                     0\n",
      "acre_lot                 0\n",
      "street                   0\n",
      "city                     0\n",
      "state                    0\n",
      "zip_code                 0\n",
      "house_size               0\n",
      "price_per_sqft           1\n",
      "lot_size_ratio           1\n",
      "status_for_sale          0\n",
      "status_ready_to_build    0\n",
      "status_sold              0\n",
      "dtype: int64\n",
      "0 0\n"
     ]
    }
   ],
   "source": [
    "print(np.isnan(X_train).sum(), np.isinf(X_train).sum())\n",
    "print(np.isnan(y_train).sum(), np.isinf(y_train).sum())\n"
   ]
  },
  {
   "cell_type": "code",
   "execution_count": 121,
   "metadata": {},
   "outputs": [
    {
     "name": "stderr",
     "output_type": "stream",
     "text": [
      "/var/folders/9p/w_12n2k16vbfb9yq1qvydcch0000gn/T/ipykernel_18496/2046541378.py:1: FutureWarning: A value is trying to be set on a copy of a DataFrame or Series through chained assignment using an inplace method.\n",
      "The behavior will change in pandas 3.0. This inplace method will never work because the intermediate object on which we are setting values always behaves as a copy.\n",
      "\n",
      "For example, when doing 'df[col].method(value, inplace=True)', try using 'df.method({col: value}, inplace=True)' or df[col] = df[col].method(value) instead, to perform the operation inplace on the original object.\n",
      "\n",
      "\n",
      "  X_train['price_per_sqft'].fillna(X_train['price_per_sqft'].mean(), inplace=True)\n",
      "/var/folders/9p/w_12n2k16vbfb9yq1qvydcch0000gn/T/ipykernel_18496/2046541378.py:2: FutureWarning: A value is trying to be set on a copy of a DataFrame or Series through chained assignment using an inplace method.\n",
      "The behavior will change in pandas 3.0. This inplace method will never work because the intermediate object on which we are setting values always behaves as a copy.\n",
      "\n",
      "For example, when doing 'df[col].method(value, inplace=True)', try using 'df.method({col: value}, inplace=True)' or df[col] = df[col].method(value) instead, to perform the operation inplace on the original object.\n",
      "\n",
      "\n",
      "  X_train['lot_size_ratio'].fillna(X_train['lot_size_ratio'].mean(), inplace=True)\n",
      "/var/folders/9p/w_12n2k16vbfb9yq1qvydcch0000gn/T/ipykernel_18496/2046541378.py:4: FutureWarning: A value is trying to be set on a copy of a DataFrame or Series through chained assignment using an inplace method.\n",
      "The behavior will change in pandas 3.0. This inplace method will never work because the intermediate object on which we are setting values always behaves as a copy.\n",
      "\n",
      "For example, when doing 'df[col].method(value, inplace=True)', try using 'df.method({col: value}, inplace=True)' or df[col] = df[col].method(value) instead, to perform the operation inplace on the original object.\n",
      "\n",
      "\n",
      "  X_test['price_per_sqft'].fillna(X_test['price_per_sqft'].mean(), inplace=True)\n",
      "/var/folders/9p/w_12n2k16vbfb9yq1qvydcch0000gn/T/ipykernel_18496/2046541378.py:5: FutureWarning: A value is trying to be set on a copy of a DataFrame or Series through chained assignment using an inplace method.\n",
      "The behavior will change in pandas 3.0. This inplace method will never work because the intermediate object on which we are setting values always behaves as a copy.\n",
      "\n",
      "For example, when doing 'df[col].method(value, inplace=True)', try using 'df.method({col: value}, inplace=True)' or df[col] = df[col].method(value) instead, to perform the operation inplace on the original object.\n",
      "\n",
      "\n",
      "  X_test['lot_size_ratio'].fillna(X_test['lot_size_ratio'].mean(), inplace=True)\n"
     ]
    }
   ],
   "source": [
    "X_train['price_per_sqft'].fillna(X_train['price_per_sqft'].mean(), inplace=True)\n",
    "X_train['lot_size_ratio'].fillna(X_train['lot_size_ratio'].mean(), inplace=True)\n",
    "\n",
    "X_test['price_per_sqft'].fillna(X_test['price_per_sqft'].mean(), inplace=True)\n",
    "X_test['lot_size_ratio'].fillna(X_test['lot_size_ratio'].mean(), inplace=True)"
   ]
  },
  {
   "cell_type": "code",
   "execution_count": 122,
   "metadata": {},
   "outputs": [
    {
     "name": "stderr",
     "output_type": "stream",
     "text": [
      "/Users/gojo/Documents/GitHub/Sameer_Take_Home_Assignment/tf-env/lib/python3.10/site-packages/keras/src/layers/core/dense.py:87: UserWarning: Do not pass an `input_shape`/`input_dim` argument to a layer. When using Sequential models, prefer using an `Input(shape)` object as the first layer in the model instead.\n",
      "  super().__init__(activity_regularizer=activity_regularizer, **kwargs)\n"
     ]
    },
    {
     "data": {
      "text/html": [
       "<pre style=\"white-space:pre;overflow-x:auto;line-height:normal;font-family:Menlo,'DejaVu Sans Mono',consolas,'Courier New',monospace\"><span style=\"font-weight: bold\">Model: \"sequential_8\"</span>\n",
       "</pre>\n"
      ],
      "text/plain": [
       "\u001b[1mModel: \"sequential_8\"\u001b[0m\n"
      ]
     },
     "metadata": {},
     "output_type": "display_data"
    },
    {
     "data": {
      "text/html": [
       "<pre style=\"white-space:pre;overflow-x:auto;line-height:normal;font-family:Menlo,'DejaVu Sans Mono',consolas,'Courier New',monospace\">┏━━━━━━━━━━━━━━━━━━━━━━━━━━━━━━━━━┳━━━━━━━━━━━━━━━━━━━━━━━━┳━━━━━━━━━━━━━━━┓\n",
       "┃<span style=\"font-weight: bold\"> Layer (type)                    </span>┃<span style=\"font-weight: bold\"> Output Shape           </span>┃<span style=\"font-weight: bold\">       Param # </span>┃\n",
       "┡━━━━━━━━━━━━━━━━━━━━━━━━━━━━━━━━━╇━━━━━━━━━━━━━━━━━━━━━━━━╇━━━━━━━━━━━━━━━┩\n",
       "│ dense_24 (<span style=\"color: #0087ff; text-decoration-color: #0087ff\">Dense</span>)                │ (<span style=\"color: #00d7ff; text-decoration-color: #00d7ff\">None</span>, <span style=\"color: #00af00; text-decoration-color: #00af00\">64</span>)             │           <span style=\"color: #00af00; text-decoration-color: #00af00\">960</span> │\n",
       "├─────────────────────────────────┼────────────────────────┼───────────────┤\n",
       "│ dense_25 (<span style=\"color: #0087ff; text-decoration-color: #0087ff\">Dense</span>)                │ (<span style=\"color: #00d7ff; text-decoration-color: #00d7ff\">None</span>, <span style=\"color: #00af00; text-decoration-color: #00af00\">32</span>)             │         <span style=\"color: #00af00; text-decoration-color: #00af00\">2,080</span> │\n",
       "├─────────────────────────────────┼────────────────────────┼───────────────┤\n",
       "│ dense_26 (<span style=\"color: #0087ff; text-decoration-color: #0087ff\">Dense</span>)                │ (<span style=\"color: #00d7ff; text-decoration-color: #00d7ff\">None</span>, <span style=\"color: #00af00; text-decoration-color: #00af00\">1</span>)              │            <span style=\"color: #00af00; text-decoration-color: #00af00\">33</span> │\n",
       "└─────────────────────────────────┴────────────────────────┴───────────────┘\n",
       "</pre>\n"
      ],
      "text/plain": [
       "┏━━━━━━━━━━━━━━━━━━━━━━━━━━━━━━━━━┳━━━━━━━━━━━━━━━━━━━━━━━━┳━━━━━━━━━━━━━━━┓\n",
       "┃\u001b[1m \u001b[0m\u001b[1mLayer (type)                   \u001b[0m\u001b[1m \u001b[0m┃\u001b[1m \u001b[0m\u001b[1mOutput Shape          \u001b[0m\u001b[1m \u001b[0m┃\u001b[1m \u001b[0m\u001b[1m      Param #\u001b[0m\u001b[1m \u001b[0m┃\n",
       "┡━━━━━━━━━━━━━━━━━━━━━━━━━━━━━━━━━╇━━━━━━━━━━━━━━━━━━━━━━━━╇━━━━━━━━━━━━━━━┩\n",
       "│ dense_24 (\u001b[38;5;33mDense\u001b[0m)                │ (\u001b[38;5;45mNone\u001b[0m, \u001b[38;5;34m64\u001b[0m)             │           \u001b[38;5;34m960\u001b[0m │\n",
       "├─────────────────────────────────┼────────────────────────┼───────────────┤\n",
       "│ dense_25 (\u001b[38;5;33mDense\u001b[0m)                │ (\u001b[38;5;45mNone\u001b[0m, \u001b[38;5;34m32\u001b[0m)             │         \u001b[38;5;34m2,080\u001b[0m │\n",
       "├─────────────────────────────────┼────────────────────────┼───────────────┤\n",
       "│ dense_26 (\u001b[38;5;33mDense\u001b[0m)                │ (\u001b[38;5;45mNone\u001b[0m, \u001b[38;5;34m1\u001b[0m)              │            \u001b[38;5;34m33\u001b[0m │\n",
       "└─────────────────────────────────┴────────────────────────┴───────────────┘\n"
      ]
     },
     "metadata": {},
     "output_type": "display_data"
    },
    {
     "data": {
      "text/html": [
       "<pre style=\"white-space:pre;overflow-x:auto;line-height:normal;font-family:Menlo,'DejaVu Sans Mono',consolas,'Courier New',monospace\"><span style=\"font-weight: bold\"> Total params: </span><span style=\"color: #00af00; text-decoration-color: #00af00\">3,073</span> (12.00 KB)\n",
       "</pre>\n"
      ],
      "text/plain": [
       "\u001b[1m Total params: \u001b[0m\u001b[38;5;34m3,073\u001b[0m (12.00 KB)\n"
      ]
     },
     "metadata": {},
     "output_type": "display_data"
    },
    {
     "data": {
      "text/html": [
       "<pre style=\"white-space:pre;overflow-x:auto;line-height:normal;font-family:Menlo,'DejaVu Sans Mono',consolas,'Courier New',monospace\"><span style=\"font-weight: bold\"> Trainable params: </span><span style=\"color: #00af00; text-decoration-color: #00af00\">3,073</span> (12.00 KB)\n",
       "</pre>\n"
      ],
      "text/plain": [
       "\u001b[1m Trainable params: \u001b[0m\u001b[38;5;34m3,073\u001b[0m (12.00 KB)\n"
      ]
     },
     "metadata": {},
     "output_type": "display_data"
    },
    {
     "data": {
      "text/html": [
       "<pre style=\"white-space:pre;overflow-x:auto;line-height:normal;font-family:Menlo,'DejaVu Sans Mono',consolas,'Courier New',monospace\"><span style=\"font-weight: bold\"> Non-trainable params: </span><span style=\"color: #00af00; text-decoration-color: #00af00\">0</span> (0.00 B)\n",
       "</pre>\n"
      ],
      "text/plain": [
       "\u001b[1m Non-trainable params: \u001b[0m\u001b[38;5;34m0\u001b[0m (0.00 B)\n"
      ]
     },
     "metadata": {},
     "output_type": "display_data"
    },
    {
     "name": "stdout",
     "output_type": "stream",
     "text": [
      "Epoch 1/100\n",
      "\u001b[1m55547/55547\u001b[0m \u001b[32m━━━━━━━━━━━━━━━━━━━━\u001b[0m\u001b[37m\u001b[0m \u001b[1m18s\u001b[0m 327us/step - loss: nan - val_loss: nan\n",
      "Epoch 2/100\n",
      "\u001b[1m40711/55547\u001b[0m \u001b[32m━━━━━━━━━━━━━━\u001b[0m\u001b[37m━━━━━━\u001b[0m \u001b[1m4s\u001b[0m 271us/step - loss: nan"
     ]
    },
    {
     "ename": "KeyboardInterrupt",
     "evalue": "",
     "output_type": "error",
     "traceback": [
      "\u001b[0;31m---------------------------------------------------------------------------\u001b[0m",
      "\u001b[0;31mKeyboardInterrupt\u001b[0m                         Traceback (most recent call last)",
      "Cell \u001b[0;32mIn[122], line 25\u001b[0m\n\u001b[1;32m     22\u001b[0m model\u001b[38;5;241m.\u001b[39msummary()\n\u001b[1;32m     24\u001b[0m \u001b[38;5;66;03m# Train the model\u001b[39;00m\n\u001b[0;32m---> 25\u001b[0m history \u001b[38;5;241m=\u001b[39m \u001b[43mmodel\u001b[49m\u001b[38;5;241;43m.\u001b[39;49m\u001b[43mfit\u001b[49m\u001b[43m(\u001b[49m\u001b[43mX_train\u001b[49m\u001b[43m,\u001b[49m\u001b[43m \u001b[49m\u001b[43my_train\u001b[49m\u001b[43m,\u001b[49m\u001b[43m \u001b[49m\u001b[43mepochs\u001b[49m\u001b[38;5;241;43m=\u001b[39;49m\u001b[38;5;241;43m100\u001b[39;49m\u001b[43m,\u001b[49m\u001b[43m \u001b[49m\u001b[43mbatch_size\u001b[49m\u001b[38;5;241;43m=\u001b[39;49m\u001b[38;5;241;43m32\u001b[39;49m\u001b[43m,\u001b[49m\u001b[43m \u001b[49m\u001b[43mvalidation_data\u001b[49m\u001b[38;5;241;43m=\u001b[39;49m\u001b[43m(\u001b[49m\u001b[43mX_test\u001b[49m\u001b[43m,\u001b[49m\u001b[43m \u001b[49m\u001b[43my_test\u001b[49m\u001b[43m)\u001b[49m\u001b[43m,\u001b[49m\u001b[43m \u001b[49m\u001b[43mverbose\u001b[49m\u001b[38;5;241;43m=\u001b[39;49m\u001b[38;5;241;43m1\u001b[39;49m\u001b[43m)\u001b[49m\n",
      "File \u001b[0;32m~/Documents/GitHub/Sameer_Take_Home_Assignment/tf-env/lib/python3.10/site-packages/keras/src/utils/traceback_utils.py:117\u001b[0m, in \u001b[0;36mfilter_traceback.<locals>.error_handler\u001b[0;34m(*args, **kwargs)\u001b[0m\n\u001b[1;32m    115\u001b[0m filtered_tb \u001b[38;5;241m=\u001b[39m \u001b[38;5;28;01mNone\u001b[39;00m\n\u001b[1;32m    116\u001b[0m \u001b[38;5;28;01mtry\u001b[39;00m:\n\u001b[0;32m--> 117\u001b[0m     \u001b[38;5;28;01mreturn\u001b[39;00m \u001b[43mfn\u001b[49m\u001b[43m(\u001b[49m\u001b[38;5;241;43m*\u001b[39;49m\u001b[43margs\u001b[49m\u001b[43m,\u001b[49m\u001b[43m \u001b[49m\u001b[38;5;241;43m*\u001b[39;49m\u001b[38;5;241;43m*\u001b[39;49m\u001b[43mkwargs\u001b[49m\u001b[43m)\u001b[49m\n\u001b[1;32m    118\u001b[0m \u001b[38;5;28;01mexcept\u001b[39;00m \u001b[38;5;167;01mException\u001b[39;00m \u001b[38;5;28;01mas\u001b[39;00m e:\n\u001b[1;32m    119\u001b[0m     filtered_tb \u001b[38;5;241m=\u001b[39m _process_traceback_frames(e\u001b[38;5;241m.\u001b[39m__traceback__)\n",
      "File \u001b[0;32m~/Documents/GitHub/Sameer_Take_Home_Assignment/tf-env/lib/python3.10/site-packages/keras/src/backend/tensorflow/trainer.py:368\u001b[0m, in \u001b[0;36mTensorFlowTrainer.fit\u001b[0;34m(self, x, y, batch_size, epochs, verbose, callbacks, validation_split, validation_data, shuffle, class_weight, sample_weight, initial_epoch, steps_per_epoch, validation_steps, validation_batch_size, validation_freq)\u001b[0m\n\u001b[1;32m    366\u001b[0m \u001b[38;5;28;01mfor\u001b[39;00m step, iterator \u001b[38;5;129;01min\u001b[39;00m epoch_iterator:\n\u001b[1;32m    367\u001b[0m     callbacks\u001b[38;5;241m.\u001b[39mon_train_batch_begin(step)\n\u001b[0;32m--> 368\u001b[0m     logs \u001b[38;5;241m=\u001b[39m \u001b[38;5;28;43mself\u001b[39;49m\u001b[38;5;241;43m.\u001b[39;49m\u001b[43mtrain_function\u001b[49m\u001b[43m(\u001b[49m\u001b[43miterator\u001b[49m\u001b[43m)\u001b[49m\n\u001b[1;32m    369\u001b[0m     callbacks\u001b[38;5;241m.\u001b[39mon_train_batch_end(step, logs)\n\u001b[1;32m    370\u001b[0m     \u001b[38;5;28;01mif\u001b[39;00m \u001b[38;5;28mself\u001b[39m\u001b[38;5;241m.\u001b[39mstop_training:\n",
      "File \u001b[0;32m~/Documents/GitHub/Sameer_Take_Home_Assignment/tf-env/lib/python3.10/site-packages/keras/src/backend/tensorflow/trainer.py:216\u001b[0m, in \u001b[0;36mTensorFlowTrainer._make_function.<locals>.function\u001b[0;34m(iterator)\u001b[0m\n\u001b[1;32m    212\u001b[0m \u001b[38;5;28;01mdef\u001b[39;00m \u001b[38;5;21mfunction\u001b[39m(iterator):\n\u001b[1;32m    213\u001b[0m     \u001b[38;5;28;01mif\u001b[39;00m \u001b[38;5;28misinstance\u001b[39m(\n\u001b[1;32m    214\u001b[0m         iterator, (tf\u001b[38;5;241m.\u001b[39mdata\u001b[38;5;241m.\u001b[39mIterator, tf\u001b[38;5;241m.\u001b[39mdistribute\u001b[38;5;241m.\u001b[39mDistributedIterator)\n\u001b[1;32m    215\u001b[0m     ):\n\u001b[0;32m--> 216\u001b[0m         opt_outputs \u001b[38;5;241m=\u001b[39m \u001b[43mmulti_step_on_iterator\u001b[49m\u001b[43m(\u001b[49m\u001b[43miterator\u001b[49m\u001b[43m)\u001b[49m\n\u001b[1;32m    217\u001b[0m         \u001b[38;5;28;01mif\u001b[39;00m \u001b[38;5;129;01mnot\u001b[39;00m opt_outputs\u001b[38;5;241m.\u001b[39mhas_value():\n\u001b[1;32m    218\u001b[0m             \u001b[38;5;28;01mraise\u001b[39;00m \u001b[38;5;167;01mStopIteration\u001b[39;00m\n",
      "File \u001b[0;32m~/Documents/GitHub/Sameer_Take_Home_Assignment/tf-env/lib/python3.10/site-packages/tensorflow/python/util/traceback_utils.py:150\u001b[0m, in \u001b[0;36mfilter_traceback.<locals>.error_handler\u001b[0;34m(*args, **kwargs)\u001b[0m\n\u001b[1;32m    148\u001b[0m filtered_tb \u001b[38;5;241m=\u001b[39m \u001b[38;5;28;01mNone\u001b[39;00m\n\u001b[1;32m    149\u001b[0m \u001b[38;5;28;01mtry\u001b[39;00m:\n\u001b[0;32m--> 150\u001b[0m   \u001b[38;5;28;01mreturn\u001b[39;00m \u001b[43mfn\u001b[49m\u001b[43m(\u001b[49m\u001b[38;5;241;43m*\u001b[39;49m\u001b[43margs\u001b[49m\u001b[43m,\u001b[49m\u001b[43m \u001b[49m\u001b[38;5;241;43m*\u001b[39;49m\u001b[38;5;241;43m*\u001b[39;49m\u001b[43mkwargs\u001b[49m\u001b[43m)\u001b[49m\n\u001b[1;32m    151\u001b[0m \u001b[38;5;28;01mexcept\u001b[39;00m \u001b[38;5;167;01mException\u001b[39;00m \u001b[38;5;28;01mas\u001b[39;00m e:\n\u001b[1;32m    152\u001b[0m   filtered_tb \u001b[38;5;241m=\u001b[39m _process_traceback_frames(e\u001b[38;5;241m.\u001b[39m__traceback__)\n",
      "File \u001b[0;32m~/Documents/GitHub/Sameer_Take_Home_Assignment/tf-env/lib/python3.10/site-packages/tensorflow/python/eager/polymorphic_function/polymorphic_function.py:833\u001b[0m, in \u001b[0;36mFunction.__call__\u001b[0;34m(self, *args, **kwds)\u001b[0m\n\u001b[1;32m    830\u001b[0m compiler \u001b[38;5;241m=\u001b[39m \u001b[38;5;124m\"\u001b[39m\u001b[38;5;124mxla\u001b[39m\u001b[38;5;124m\"\u001b[39m \u001b[38;5;28;01mif\u001b[39;00m \u001b[38;5;28mself\u001b[39m\u001b[38;5;241m.\u001b[39m_jit_compile \u001b[38;5;28;01melse\u001b[39;00m \u001b[38;5;124m\"\u001b[39m\u001b[38;5;124mnonXla\u001b[39m\u001b[38;5;124m\"\u001b[39m\n\u001b[1;32m    832\u001b[0m \u001b[38;5;28;01mwith\u001b[39;00m OptionalXlaContext(\u001b[38;5;28mself\u001b[39m\u001b[38;5;241m.\u001b[39m_jit_compile):\n\u001b[0;32m--> 833\u001b[0m   result \u001b[38;5;241m=\u001b[39m \u001b[38;5;28;43mself\u001b[39;49m\u001b[38;5;241;43m.\u001b[39;49m\u001b[43m_call\u001b[49m\u001b[43m(\u001b[49m\u001b[38;5;241;43m*\u001b[39;49m\u001b[43margs\u001b[49m\u001b[43m,\u001b[49m\u001b[43m \u001b[49m\u001b[38;5;241;43m*\u001b[39;49m\u001b[38;5;241;43m*\u001b[39;49m\u001b[43mkwds\u001b[49m\u001b[43m)\u001b[49m\n\u001b[1;32m    835\u001b[0m new_tracing_count \u001b[38;5;241m=\u001b[39m \u001b[38;5;28mself\u001b[39m\u001b[38;5;241m.\u001b[39mexperimental_get_tracing_count()\n\u001b[1;32m    836\u001b[0m without_tracing \u001b[38;5;241m=\u001b[39m (tracing_count \u001b[38;5;241m==\u001b[39m new_tracing_count)\n",
      "File \u001b[0;32m~/Documents/GitHub/Sameer_Take_Home_Assignment/tf-env/lib/python3.10/site-packages/tensorflow/python/eager/polymorphic_function/polymorphic_function.py:878\u001b[0m, in \u001b[0;36mFunction._call\u001b[0;34m(self, *args, **kwds)\u001b[0m\n\u001b[1;32m    875\u001b[0m \u001b[38;5;28mself\u001b[39m\u001b[38;5;241m.\u001b[39m_lock\u001b[38;5;241m.\u001b[39mrelease()\n\u001b[1;32m    876\u001b[0m \u001b[38;5;66;03m# In this case we have not created variables on the first call. So we can\u001b[39;00m\n\u001b[1;32m    877\u001b[0m \u001b[38;5;66;03m# run the first trace but we should fail if variables are created.\u001b[39;00m\n\u001b[0;32m--> 878\u001b[0m results \u001b[38;5;241m=\u001b[39m \u001b[43mtracing_compilation\u001b[49m\u001b[38;5;241;43m.\u001b[39;49m\u001b[43mcall_function\u001b[49m\u001b[43m(\u001b[49m\n\u001b[1;32m    879\u001b[0m \u001b[43m    \u001b[49m\u001b[43margs\u001b[49m\u001b[43m,\u001b[49m\u001b[43m \u001b[49m\u001b[43mkwds\u001b[49m\u001b[43m,\u001b[49m\u001b[43m \u001b[49m\u001b[38;5;28;43mself\u001b[39;49m\u001b[38;5;241;43m.\u001b[39;49m\u001b[43m_variable_creation_config\u001b[49m\n\u001b[1;32m    880\u001b[0m \u001b[43m\u001b[49m\u001b[43m)\u001b[49m\n\u001b[1;32m    881\u001b[0m \u001b[38;5;28;01mif\u001b[39;00m \u001b[38;5;28mself\u001b[39m\u001b[38;5;241m.\u001b[39m_created_variables:\n\u001b[1;32m    882\u001b[0m   \u001b[38;5;28;01mraise\u001b[39;00m \u001b[38;5;167;01mValueError\u001b[39;00m(\u001b[38;5;124m\"\u001b[39m\u001b[38;5;124mCreating variables on a non-first call to a function\u001b[39m\u001b[38;5;124m\"\u001b[39m\n\u001b[1;32m    883\u001b[0m                    \u001b[38;5;124m\"\u001b[39m\u001b[38;5;124m decorated with tf.function.\u001b[39m\u001b[38;5;124m\"\u001b[39m)\n",
      "File \u001b[0;32m~/Documents/GitHub/Sameer_Take_Home_Assignment/tf-env/lib/python3.10/site-packages/tensorflow/python/eager/polymorphic_function/tracing_compilation.py:139\u001b[0m, in \u001b[0;36mcall_function\u001b[0;34m(args, kwargs, tracing_options)\u001b[0m\n\u001b[1;32m    137\u001b[0m bound_args \u001b[38;5;241m=\u001b[39m function\u001b[38;5;241m.\u001b[39mfunction_type\u001b[38;5;241m.\u001b[39mbind(\u001b[38;5;241m*\u001b[39margs, \u001b[38;5;241m*\u001b[39m\u001b[38;5;241m*\u001b[39mkwargs)\n\u001b[1;32m    138\u001b[0m flat_inputs \u001b[38;5;241m=\u001b[39m function\u001b[38;5;241m.\u001b[39mfunction_type\u001b[38;5;241m.\u001b[39munpack_inputs(bound_args)\n\u001b[0;32m--> 139\u001b[0m \u001b[38;5;28;01mreturn\u001b[39;00m \u001b[43mfunction\u001b[49m\u001b[38;5;241;43m.\u001b[39;49m\u001b[43m_call_flat\u001b[49m\u001b[43m(\u001b[49m\u001b[43m  \u001b[49m\u001b[38;5;66;43;03m# pylint: disable=protected-access\u001b[39;49;00m\n\u001b[1;32m    140\u001b[0m \u001b[43m    \u001b[49m\u001b[43mflat_inputs\u001b[49m\u001b[43m,\u001b[49m\u001b[43m \u001b[49m\u001b[43mcaptured_inputs\u001b[49m\u001b[38;5;241;43m=\u001b[39;49m\u001b[43mfunction\u001b[49m\u001b[38;5;241;43m.\u001b[39;49m\u001b[43mcaptured_inputs\u001b[49m\n\u001b[1;32m    141\u001b[0m \u001b[43m\u001b[49m\u001b[43m)\u001b[49m\n",
      "File \u001b[0;32m~/Documents/GitHub/Sameer_Take_Home_Assignment/tf-env/lib/python3.10/site-packages/tensorflow/python/eager/polymorphic_function/concrete_function.py:1322\u001b[0m, in \u001b[0;36mConcreteFunction._call_flat\u001b[0;34m(self, tensor_inputs, captured_inputs)\u001b[0m\n\u001b[1;32m   1318\u001b[0m possible_gradient_type \u001b[38;5;241m=\u001b[39m gradients_util\u001b[38;5;241m.\u001b[39mPossibleTapeGradientTypes(args)\n\u001b[1;32m   1319\u001b[0m \u001b[38;5;28;01mif\u001b[39;00m (possible_gradient_type \u001b[38;5;241m==\u001b[39m gradients_util\u001b[38;5;241m.\u001b[39mPOSSIBLE_GRADIENT_TYPES_NONE\n\u001b[1;32m   1320\u001b[0m     \u001b[38;5;129;01mand\u001b[39;00m executing_eagerly):\n\u001b[1;32m   1321\u001b[0m   \u001b[38;5;66;03m# No tape is watching; skip to running the function.\u001b[39;00m\n\u001b[0;32m-> 1322\u001b[0m   \u001b[38;5;28;01mreturn\u001b[39;00m \u001b[38;5;28;43mself\u001b[39;49m\u001b[38;5;241;43m.\u001b[39;49m\u001b[43m_inference_function\u001b[49m\u001b[38;5;241;43m.\u001b[39;49m\u001b[43mcall_preflattened\u001b[49m\u001b[43m(\u001b[49m\u001b[43margs\u001b[49m\u001b[43m)\u001b[49m\n\u001b[1;32m   1323\u001b[0m forward_backward \u001b[38;5;241m=\u001b[39m \u001b[38;5;28mself\u001b[39m\u001b[38;5;241m.\u001b[39m_select_forward_and_backward_functions(\n\u001b[1;32m   1324\u001b[0m     args,\n\u001b[1;32m   1325\u001b[0m     possible_gradient_type,\n\u001b[1;32m   1326\u001b[0m     executing_eagerly)\n\u001b[1;32m   1327\u001b[0m forward_function, args_with_tangents \u001b[38;5;241m=\u001b[39m forward_backward\u001b[38;5;241m.\u001b[39mforward()\n",
      "File \u001b[0;32m~/Documents/GitHub/Sameer_Take_Home_Assignment/tf-env/lib/python3.10/site-packages/tensorflow/python/eager/polymorphic_function/atomic_function.py:216\u001b[0m, in \u001b[0;36mAtomicFunction.call_preflattened\u001b[0;34m(self, args)\u001b[0m\n\u001b[1;32m    214\u001b[0m \u001b[38;5;28;01mdef\u001b[39;00m \u001b[38;5;21mcall_preflattened\u001b[39m(\u001b[38;5;28mself\u001b[39m, args: Sequence[core\u001b[38;5;241m.\u001b[39mTensor]) \u001b[38;5;241m-\u001b[39m\u001b[38;5;241m>\u001b[39m Any:\n\u001b[1;32m    215\u001b[0m \u001b[38;5;250m  \u001b[39m\u001b[38;5;124;03m\"\"\"Calls with flattened tensor inputs and returns the structured output.\"\"\"\u001b[39;00m\n\u001b[0;32m--> 216\u001b[0m   flat_outputs \u001b[38;5;241m=\u001b[39m \u001b[38;5;28;43mself\u001b[39;49m\u001b[38;5;241;43m.\u001b[39;49m\u001b[43mcall_flat\u001b[49m\u001b[43m(\u001b[49m\u001b[38;5;241;43m*\u001b[39;49m\u001b[43margs\u001b[49m\u001b[43m)\u001b[49m\n\u001b[1;32m    217\u001b[0m   \u001b[38;5;28;01mreturn\u001b[39;00m \u001b[38;5;28mself\u001b[39m\u001b[38;5;241m.\u001b[39mfunction_type\u001b[38;5;241m.\u001b[39mpack_output(flat_outputs)\n",
      "File \u001b[0;32m~/Documents/GitHub/Sameer_Take_Home_Assignment/tf-env/lib/python3.10/site-packages/tensorflow/python/eager/polymorphic_function/atomic_function.py:251\u001b[0m, in \u001b[0;36mAtomicFunction.call_flat\u001b[0;34m(self, *args)\u001b[0m\n\u001b[1;32m    249\u001b[0m \u001b[38;5;28;01mwith\u001b[39;00m record\u001b[38;5;241m.\u001b[39mstop_recording():\n\u001b[1;32m    250\u001b[0m   \u001b[38;5;28;01mif\u001b[39;00m \u001b[38;5;28mself\u001b[39m\u001b[38;5;241m.\u001b[39m_bound_context\u001b[38;5;241m.\u001b[39mexecuting_eagerly():\n\u001b[0;32m--> 251\u001b[0m     outputs \u001b[38;5;241m=\u001b[39m \u001b[38;5;28;43mself\u001b[39;49m\u001b[38;5;241;43m.\u001b[39;49m\u001b[43m_bound_context\u001b[49m\u001b[38;5;241;43m.\u001b[39;49m\u001b[43mcall_function\u001b[49m\u001b[43m(\u001b[49m\n\u001b[1;32m    252\u001b[0m \u001b[43m        \u001b[49m\u001b[38;5;28;43mself\u001b[39;49m\u001b[38;5;241;43m.\u001b[39;49m\u001b[43mname\u001b[49m\u001b[43m,\u001b[49m\n\u001b[1;32m    253\u001b[0m \u001b[43m        \u001b[49m\u001b[38;5;28;43mlist\u001b[39;49m\u001b[43m(\u001b[49m\u001b[43margs\u001b[49m\u001b[43m)\u001b[49m\u001b[43m,\u001b[49m\n\u001b[1;32m    254\u001b[0m \u001b[43m        \u001b[49m\u001b[38;5;28;43mlen\u001b[39;49m\u001b[43m(\u001b[49m\u001b[38;5;28;43mself\u001b[39;49m\u001b[38;5;241;43m.\u001b[39;49m\u001b[43mfunction_type\u001b[49m\u001b[38;5;241;43m.\u001b[39;49m\u001b[43mflat_outputs\u001b[49m\u001b[43m)\u001b[49m\u001b[43m,\u001b[49m\n\u001b[1;32m    255\u001b[0m \u001b[43m    \u001b[49m\u001b[43m)\u001b[49m\n\u001b[1;32m    256\u001b[0m   \u001b[38;5;28;01melse\u001b[39;00m:\n\u001b[1;32m    257\u001b[0m     outputs \u001b[38;5;241m=\u001b[39m make_call_op_in_graph(\n\u001b[1;32m    258\u001b[0m         \u001b[38;5;28mself\u001b[39m,\n\u001b[1;32m    259\u001b[0m         \u001b[38;5;28mlist\u001b[39m(args),\n\u001b[1;32m    260\u001b[0m         \u001b[38;5;28mself\u001b[39m\u001b[38;5;241m.\u001b[39m_bound_context\u001b[38;5;241m.\u001b[39mfunction_call_options\u001b[38;5;241m.\u001b[39mas_attrs(),\n\u001b[1;32m    261\u001b[0m     )\n",
      "File \u001b[0;32m~/Documents/GitHub/Sameer_Take_Home_Assignment/tf-env/lib/python3.10/site-packages/tensorflow/python/eager/context.py:1500\u001b[0m, in \u001b[0;36mContext.call_function\u001b[0;34m(self, name, tensor_inputs, num_outputs)\u001b[0m\n\u001b[1;32m   1498\u001b[0m cancellation_context \u001b[38;5;241m=\u001b[39m cancellation\u001b[38;5;241m.\u001b[39mcontext()\n\u001b[1;32m   1499\u001b[0m \u001b[38;5;28;01mif\u001b[39;00m cancellation_context \u001b[38;5;129;01mis\u001b[39;00m \u001b[38;5;28;01mNone\u001b[39;00m:\n\u001b[0;32m-> 1500\u001b[0m   outputs \u001b[38;5;241m=\u001b[39m \u001b[43mexecute\u001b[49m\u001b[38;5;241;43m.\u001b[39;49m\u001b[43mexecute\u001b[49m\u001b[43m(\u001b[49m\n\u001b[1;32m   1501\u001b[0m \u001b[43m      \u001b[49m\u001b[43mname\u001b[49m\u001b[38;5;241;43m.\u001b[39;49m\u001b[43mdecode\u001b[49m\u001b[43m(\u001b[49m\u001b[38;5;124;43m\"\u001b[39;49m\u001b[38;5;124;43mutf-8\u001b[39;49m\u001b[38;5;124;43m\"\u001b[39;49m\u001b[43m)\u001b[49m\u001b[43m,\u001b[49m\n\u001b[1;32m   1502\u001b[0m \u001b[43m      \u001b[49m\u001b[43mnum_outputs\u001b[49m\u001b[38;5;241;43m=\u001b[39;49m\u001b[43mnum_outputs\u001b[49m\u001b[43m,\u001b[49m\n\u001b[1;32m   1503\u001b[0m \u001b[43m      \u001b[49m\u001b[43minputs\u001b[49m\u001b[38;5;241;43m=\u001b[39;49m\u001b[43mtensor_inputs\u001b[49m\u001b[43m,\u001b[49m\n\u001b[1;32m   1504\u001b[0m \u001b[43m      \u001b[49m\u001b[43mattrs\u001b[49m\u001b[38;5;241;43m=\u001b[39;49m\u001b[43mattrs\u001b[49m\u001b[43m,\u001b[49m\n\u001b[1;32m   1505\u001b[0m \u001b[43m      \u001b[49m\u001b[43mctx\u001b[49m\u001b[38;5;241;43m=\u001b[39;49m\u001b[38;5;28;43mself\u001b[39;49m\u001b[43m,\u001b[49m\n\u001b[1;32m   1506\u001b[0m \u001b[43m  \u001b[49m\u001b[43m)\u001b[49m\n\u001b[1;32m   1507\u001b[0m \u001b[38;5;28;01melse\u001b[39;00m:\n\u001b[1;32m   1508\u001b[0m   outputs \u001b[38;5;241m=\u001b[39m execute\u001b[38;5;241m.\u001b[39mexecute_with_cancellation(\n\u001b[1;32m   1509\u001b[0m       name\u001b[38;5;241m.\u001b[39mdecode(\u001b[38;5;124m\"\u001b[39m\u001b[38;5;124mutf-8\u001b[39m\u001b[38;5;124m\"\u001b[39m),\n\u001b[1;32m   1510\u001b[0m       num_outputs\u001b[38;5;241m=\u001b[39mnum_outputs,\n\u001b[0;32m   (...)\u001b[0m\n\u001b[1;32m   1514\u001b[0m       cancellation_manager\u001b[38;5;241m=\u001b[39mcancellation_context,\n\u001b[1;32m   1515\u001b[0m   )\n",
      "File \u001b[0;32m~/Documents/GitHub/Sameer_Take_Home_Assignment/tf-env/lib/python3.10/site-packages/tensorflow/python/eager/execute.py:53\u001b[0m, in \u001b[0;36mquick_execute\u001b[0;34m(op_name, num_outputs, inputs, attrs, ctx, name)\u001b[0m\n\u001b[1;32m     51\u001b[0m \u001b[38;5;28;01mtry\u001b[39;00m:\n\u001b[1;32m     52\u001b[0m   ctx\u001b[38;5;241m.\u001b[39mensure_initialized()\n\u001b[0;32m---> 53\u001b[0m   tensors \u001b[38;5;241m=\u001b[39m \u001b[43mpywrap_tfe\u001b[49m\u001b[38;5;241;43m.\u001b[39;49m\u001b[43mTFE_Py_Execute\u001b[49m\u001b[43m(\u001b[49m\u001b[43mctx\u001b[49m\u001b[38;5;241;43m.\u001b[39;49m\u001b[43m_handle\u001b[49m\u001b[43m,\u001b[49m\u001b[43m \u001b[49m\u001b[43mdevice_name\u001b[49m\u001b[43m,\u001b[49m\u001b[43m \u001b[49m\u001b[43mop_name\u001b[49m\u001b[43m,\u001b[49m\n\u001b[1;32m     54\u001b[0m \u001b[43m                                      \u001b[49m\u001b[43minputs\u001b[49m\u001b[43m,\u001b[49m\u001b[43m \u001b[49m\u001b[43mattrs\u001b[49m\u001b[43m,\u001b[49m\u001b[43m \u001b[49m\u001b[43mnum_outputs\u001b[49m\u001b[43m)\u001b[49m\n\u001b[1;32m     55\u001b[0m \u001b[38;5;28;01mexcept\u001b[39;00m core\u001b[38;5;241m.\u001b[39m_NotOkStatusException \u001b[38;5;28;01mas\u001b[39;00m e:\n\u001b[1;32m     56\u001b[0m   \u001b[38;5;28;01mif\u001b[39;00m name \u001b[38;5;129;01mis\u001b[39;00m \u001b[38;5;129;01mnot\u001b[39;00m \u001b[38;5;28;01mNone\u001b[39;00m:\n",
      "\u001b[0;31mKeyboardInterrupt\u001b[0m: "
     ]
    }
   ],
   "source": [
    "from tensorflow.keras.models import Sequential\n",
    "from tensorflow.keras.layers import Dense\n",
    "from tensorflow.keras.optimizers import Adam\n",
    "\n",
    "# Define the neural network model\n",
    "model = Sequential()\n",
    "\n",
    "# Input layer (same size as the number of features)\n",
    "model.add(Dense(64, input_dim=X_train.shape[1], activation='relu'))\n",
    "\n",
    "# Hidden layer\n",
    "model.add(Dense(32, activation='relu'))\n",
    "\n",
    "# Output layer (since this is a regression problem, we use linear activation)\n",
    "model.add(Dense(1, activation='linear'))\n",
    "\n",
    "# Compile the model with Adam optimizer, a smaller learning rate, and gradient clipping\n",
    "optimizer = Adam(learning_rate=0.00001, clipvalue=1.0)\n",
    "model.compile(optimizer=optimizer, loss='mean_squared_error')\n",
    "\n",
    "# Print model summary to check architecture\n",
    "model.summary()\n",
    "\n",
    "# Train the model\n",
    "history = model.fit(X_train, y_train, epochs=100, batch_size=32, validation_data=(X_test, y_test), verbose=1)"
   ]
  }
 ],
 "metadata": {
  "kernelspec": {
   "display_name": "tf-env",
   "language": "python",
   "name": "python3"
  },
  "language_info": {
   "codemirror_mode": {
    "name": "ipython",
    "version": 3
   },
   "file_extension": ".py",
   "mimetype": "text/x-python",
   "name": "python",
   "nbconvert_exporter": "python",
   "pygments_lexer": "ipython3",
   "version": "3.10.16"
  }
 },
 "nbformat": 4,
 "nbformat_minor": 2
}
